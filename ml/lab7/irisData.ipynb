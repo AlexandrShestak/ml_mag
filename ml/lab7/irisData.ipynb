{
 "cells": [
  {
   "cell_type": "code",
   "execution_count": 1,
   "metadata": {
    "collapsed": true
   },
   "outputs": [],
   "source": [
    "from __future__ import division\n",
    "\n",
    "import csv\n",
    "import numpy as np\n",
    "import random\n",
    "from random import randrange\n",
    "from math import exp\n",
    "import copy"
   ]
  },
  {
   "cell_type": "code",
   "execution_count": 2,
   "metadata": {},
   "outputs": [],
   "source": [
    "data = []\n",
    "with open('irisData.csv', 'rb') as csv_file:\n",
    "    iris_data_reader = csv.reader(csv_file, delimiter=',', quotechar='|')\n",
    "    for row in iris_data_reader:\n",
    "        if row[4] == 'Iris-setosa':\n",
    "            data.append([float(1), float(row[0]), float(row[1]), float(row[2]), float(row[3]), 1])\n",
    "        elif row[4] == 'Iris-versicolor':\n",
    "            data.append([float(1), float(row[0]), float(row[1]), float(row[2]), float(row[3]), 2])\n",
    "        else:\n",
    "            data.append([float(1), float(row[0]), float(row[1]), float(row[2]), float(row[3]), 3])"
   ]
  },
  {
   "cell_type": "code",
   "execution_count": 3,
   "metadata": {},
   "outputs": [],
   "source": [
    "def normalize_dataset(data):\n",
    "    minmax = list()\n",
    "    for i in range(len(data[0])):\n",
    "        col_values = [row[i] for row in data]\n",
    "        value_min = min(col_values)\n",
    "        value_max = max(col_values)\n",
    "        minmax.append([value_min, value_max])\n",
    "\n",
    "    for row in data:\n",
    "        for i in range(len(row) - 1):\n",
    "            if minmax[i][1] != minmax[i][0]:\n",
    "                row[i] = (row[i] - minmax[i][0]) / (minmax[i][1] - minmax[i][0])\n",
    "\n",
    "\n",
    "normalize_dataset(data)\n",
    "np.random.shuffle(data)\n",
    "training_data = data[:135]\n",
    "test_data = data[135:150]"
   ]
  },
  {
   "cell_type": "code",
   "execution_count": 4,
   "metadata": {},
   "outputs": [],
   "source": [
    "def logistic_function(x):\n",
    "    return 1.0 / (1.0 + exp((-1) * x))\n",
    "    \n",
    "def coefficients_sgd(train, learning_rate, n_epoch, learning_class, regularization_rate):\n",
    "    \"\"\"Calculates coefficients for vector (which will be used in logistic regression function)\n",
    "    Use stochastic gradient algorithm: select random vector from training data, calculate gradient on this vector\n",
    "    and change separating vector.\n",
    "\n",
    "    train -- train data\n",
    "    learning_rate --  Used to limit the amount each coefficient is corrected each time it is updated.\n",
    "    n_epoch -- count of learning epochs\n",
    "    learning_class -- class which will be learned (there is tree classes for iris data)\n",
    "    regularization_rate -- parameter which will be used for l2 regularization\n",
    "    \"\"\"\n",
    "    w = np.array([0, 0, 0, 0, 0], dtype=np.float32)\n",
    "    for epoch in range(n_epoch):\n",
    "        random_row = random.choice(train)\n",
    "        temp_w = copy.copy(w)\n",
    "        if learning_class == random_row[5]:\n",
    "            y = 1\n",
    "        else:\n",
    "            y = -1\n",
    "        for i in range(0, 5):\n",
    "            w[i] = w[i] - learning_rate * ((1 - logistic_function(np.sum(random_row[0:5] * temp_w) * y))\n",
    "                                           * ((-1) * y * random_row[i]) + regularization_rate * w[i])\n",
    "    return w\n",
    "\n",
    "\n",
    "def coefficients_batchgd(train, learning_rate, n_epoch, learning_class, regularization_rate):\n",
    "    \"\"\"Calculates coefficients for vector (which will be used in logistic regression function)\n",
    "       Use batch gradient algorithm: calculates average gradient for all samples and change vector.\n",
    "\n",
    "       train -- train data\n",
    "       learning_rate --  Used to limit the amount each coefficient is corrected each time it is updated.\n",
    "       n_epoch -- count of learning epochs\n",
    "       learning_class -- class which will be learned (there is tree classes for iris data)\n",
    "       regularization_rate -- parameter which will be used for l2 regularization\n",
    "       \"\"\"\n",
    "    w = np.array([0, 0, 0, 0, 0], dtype=np.float32)\n",
    "    for epoch in range(n_epoch):\n",
    "        w_accumulate = np.array([0, 0, 0, 0, 0], dtype=np.float32)\n",
    "        temp_w = copy.copy(w)\n",
    "        for row in train:\n",
    "            if learning_class == row[5]:\n",
    "                y = 1\n",
    "            else:\n",
    "                y = -1\n",
    "            for i in range(0, 5):\n",
    "                w_accumulate[i] += ((1 - logistic_function(np.sum(row[0:5] * temp_w) * y))\n",
    "                                    * ((-1) * y * row[i]) + regularization_rate * w[i])\n",
    "        for i in range(0, 5):\n",
    "            w[i] = w[i] - learning_rate * w_accumulate[i] / train.__len__()\n",
    "    return w"
   ]
  },
  {
   "cell_type": "code",
   "execution_count": 5,
   "metadata": {},
   "outputs": [],
   "source": [
    "def cross_validation_split(dataset, n_folds):\n",
    "    \"\"\" Split data set for n folds. Need for k-fold validation\"\"\"\n",
    "    dataset_split = []\n",
    "    dataset_copy = copy.copy(dataset)\n",
    "    fold_size = int(len(dataset) / n_folds)\n",
    "    for i in range(n_folds):\n",
    "        fold = []\n",
    "        while len(fold) < fold_size:\n",
    "            index = randrange(len(dataset_copy))\n",
    "            fold.append(dataset_copy.pop(index))\n",
    "        dataset_split.append(fold)\n",
    "    return dataset_split\n",
    "\n",
    "\n",
    "def test_prediction(sample, w, learning_class):\n",
    "    \"\"\"Predict result on sample and returns result according learning class\"\"\"\n",
    "    prediction = logistic_function(np.sum(sample[0:5] * w))\n",
    "    if prediction >= 0.5 and learning_class == sample[5] or prediction < 0.5 and learning_class != sample[5]:\n",
    "        return 1\n",
    "    else:\n",
    "        return 0\n",
    "\n",
    "\n",
    "def test_solution(test_data, w, learning_class):\n",
    "    \"\"\"Calculates percentage of correctly predicted objects\"\"\"\n",
    "    correctly_predicted = 0\n",
    "    for test_row in test_data:\n",
    "        correctly_predicted += test_prediction(test_row, w, learning_class)\n",
    "    return correctly_predicted / test_data.__len__()\n"
   ]
  },
  {
   "cell_type": "code",
   "execution_count": 7,
   "metadata": {},
   "outputs": [],
   "source": [
    "def evaluate_algorithm(algorithm, dataset, n_epochs, learning_rate, learning_class, regularization_rate, n_folds=5):\n",
    "    \"\"\" Evaluate one of two algorithms (stochastic or batch gradient descent)\n",
    "    \n",
    "    algorithm -- coefficients_sgd or coefficients_batchgd\n",
    "    dataset -- training data\n",
    "    n_epochs -- number epochs for train\n",
    "    learning_rate --  Used to limit the amount each coefficient is corrected each time it is updated\n",
    "    learning_class -- class which will be learned (there is tree classes for iris data)\n",
    "    regularization_rate -- parameter which will be used for l2 regularization\n",
    "    n_folds -- number of folds for k-fold algorithm   \n",
    "    \"\"\"\n",
    "    \n",
    "    folds = cross_validation_split(dataset, n_folds)\n",
    "    scores = []\n",
    "    for test_set in folds:\n",
    "        train_set = [item for item in dataset if item not in test_set]\n",
    "        w = algorithm(train_set, learning_rate, n_epochs, learning_class, regularization_rate)\n",
    "        accuracy = test_solution(test_set, w, learning_class)\n",
    "        scores.append(accuracy)\n",
    "    return sum(scores)/scores.__len__()\n"
   ]
  },
  {
   "cell_type": "code",
   "execution_count": 50,
   "metadata": {
    "collapsed": true
   },
   "outputs": [
    {
     "name": "stdout",
     "output_type": "stream",
     "text": [
      "1.0\n0.637037037037\n0.851851851852\n0.0\n1.0\n0.681481481481\n0.814814814815\n0.0001\n"
     ]
    },
    {
     "name": "stdout",
     "output_type": "stream",
     "text": [
      "1.0\n0.651851851852\n0.925925925926\n0.0002\n1.0\n0.637037037037\n0.903703703704\n0.0003\n"
     ]
    },
    {
     "name": "stdout",
     "output_type": "stream",
     "text": [
      "1.0\n0.644444444444\n0.874074074074\n0.0004\n1.0\n0.637037037037\n0.762962962963\n0.0005\n"
     ]
    },
    {
     "name": "stdout",
     "output_type": "stream",
     "text": [
      "1.0\n0.681481481481\n0.822222222222\n0.0006\n1.0\n0.644444444444\n0.911111111111\n0.0007\n"
     ]
    },
    {
     "name": "stdout",
     "output_type": "stream",
     "text": [
      "1.0\n0.622222222222\n0.925925925926\n0.0008\n1.0\n0.666666666667\n0.807407407407\n0.0009\n"
     ]
    },
    {
     "name": "stdout",
     "output_type": "stream",
     "text": [
      "1.0\n0.592592592593\n0.837037037037\n0.0\n1.0\n0.674074074074\n0.874074074074\n0.0001\n"
     ]
    },
    {
     "name": "stdout",
     "output_type": "stream",
     "text": [
      "1.0\n0.681481481481\n0.903703703704\n0.0002\n1.0\n0.681481481481\n0.881481481481\n0.0003\n"
     ]
    },
    {
     "name": "stdout",
     "output_type": "stream",
     "text": [
      "1.0\n0.681481481481\n0.844444444444\n0.0004\n1.0\n0.688888888889\n0.903703703704\n0.0005\n"
     ]
    },
    {
     "name": "stdout",
     "output_type": "stream",
     "text": [
      "1.0\n0.644444444444\n0.859259259259\n0.0006\n1.0\n0.674074074074\n0.888888888889\n0.0007\n"
     ]
    },
    {
     "name": "stdout",
     "output_type": "stream",
     "text": [
      "1.0\n0.681481481481\n0.918518518519\n0.0008\n1.0\n0.651851851852\n0.874074074074\n0.0009\n"
     ]
    },
    {
     "name": "stdout",
     "output_type": "stream",
     "text": [
      "1.0\n0.674074074074\n0.888888888889\n0.0\n1.0\n0.659259259259\n0.918518518519\n0.0001\n"
     ]
    },
    {
     "name": "stdout",
     "output_type": "stream",
     "text": [
      "1.0\n0.666666666667\n0.896296296296\n0.0002\n1.0\n0.592592592593\n0.933333333333\n0.0003\n"
     ]
    },
    {
     "name": "stdout",
     "output_type": "stream",
     "text": [
      "1.0\n0.681481481481\n0.896296296296\n0.0004\n1.0\n0.674074074074\n0.851851851852\n0.0005\n"
     ]
    },
    {
     "name": "stdout",
     "output_type": "stream",
     "text": [
      "1.0\n0.637037037037\n0.925925925926\n0.0006\n1.0\n0.6\n0.918518518519\n0.0007\n"
     ]
    },
    {
     "name": "stdout",
     "output_type": "stream",
     "text": [
      "1.0\n0.607407407407\n0.888888888889\n0.0008\n1.0\n0.592592592593\n0.881481481481\n0.0009\n"
     ]
    },
    {
     "name": "stdout",
     "output_type": "stream",
     "text": [
      "1.0\n0.62962962963\n0.903703703704\n0.0\n1.0\n0.62962962963\n0.903703703704\n0.0001\n"
     ]
    },
    {
     "name": "stdout",
     "output_type": "stream",
     "text": [
      "1.0\n0.562962962963\n0.896296296296\n0.0002\n1.0\n0.622222222222\n0.925925925926\n0.0003\n"
     ]
    },
    {
     "name": "stdout",
     "output_type": "stream",
     "text": [
      "1.0\n0.637037037037\n0.859259259259\n0.0004\n1.0\n0.674074074074\n0.881481481481\n0.0005\n"
     ]
    },
    {
     "name": "stdout",
     "output_type": "stream",
     "text": [
      "1.0\n0.681481481481\n0.851851851852\n0.0006\n1.0\n0.62962962963\n0.874074074074\n0.0007\n"
     ]
    },
    {
     "name": "stdout",
     "output_type": "stream",
     "text": [
      "1.0\n0.674074074074\n0.837037037037\n0.0008\n1.0\n0.666666666667\n0.844444444444\n0.0009\n"
     ]
    },
    {
     "name": "stdout",
     "output_type": "stream",
     "text": [
      "1.0\n0.585185185185\n0.903703703704\n0.0\n1.0\n0.62962962963\n0.851851851852\n0.0001\n"
     ]
    },
    {
     "name": "stdout",
     "output_type": "stream",
     "text": [
      "1.0\n0.681481481481\n0.903703703704\n0.0002\n1.0\n0.644444444444\n0.881481481481\n0.0003\n"
     ]
    },
    {
     "name": "stdout",
     "output_type": "stream",
     "text": [
      "1.0\n0.644444444444\n0.881481481481\n0.0004\n1.0\n0.607407407407\n0.814814814815\n0.0005\n"
     ]
    },
    {
     "name": "stdout",
     "output_type": "stream",
     "text": [
      "1.0\n0.688888888889\n0.814814814815\n0.0006\n1.0\n0.681481481481\n0.911111111111\n0.0007\n"
     ]
    },
    {
     "name": "stdout",
     "output_type": "stream",
     "text": [
      "1.0\n0.592592592593\n0.903703703704\n0.0008\n1.0\n0.622222222222\n0.785185185185\n0.0009\n"
     ]
    },
    {
     "name": "stdout",
     "output_type": "stream",
     "text": [
      "1.0\n0.607407407407\n0.807407407407\n0.0\n1.0\n0.540740740741\n0.792592592593\n0.0001\n"
     ]
    },
    {
     "name": "stdout",
     "output_type": "stream",
     "text": [
      "1.0\n0.659259259259\n0.948148148148\n0.0002\n1.0\n0.666666666667\n0.925925925926\n0.0003\n"
     ]
    },
    {
     "name": "stdout",
     "output_type": "stream",
     "text": [
      "1.0\n0.651851851852\n0.859259259259\n0.0004\n1.0\n0.614814814815\n0.874074074074\n0.0005\n"
     ]
    },
    {
     "name": "stdout",
     "output_type": "stream",
     "text": [
      "1.0\n0.681481481481\n0.874074074074\n0.0006\n1.0\n0.674074074074\n0.962962962963\n0.0007\n"
     ]
    },
    {
     "name": "stdout",
     "output_type": "stream",
     "text": [
      "1.0\n0.637037037037\n0.881481481481\n0.0008\n1.0\n0.674074074074\n0.948148148148\n0.0009\n"
     ]
    },
    {
     "name": "stdout",
     "output_type": "stream",
     "text": [
      "1.0\n0.644444444444\n0.903703703704\n0.0\n1.0\n0.644444444444\n0.874074074074\n0.0001\n"
     ]
    },
    {
     "name": "stdout",
     "output_type": "stream",
     "text": [
      "1.0\n0.62962962963\n0.940740740741\n0.0002\n1.0\n0.681481481481\n0.888888888889\n0.0003\n"
     ]
    },
    {
     "name": "stdout",
     "output_type": "stream",
     "text": [
      "1.0\n0.62962962963\n0.874074074074\n0.0004\n1.0\n0.666666666667\n0.866666666667\n0.0005\n"
     ]
    },
    {
     "name": "stdout",
     "output_type": "stream",
     "text": [
      "1.0\n0.674074074074\n0.874074074074\n0.0006\n1.0\n0.674074074074\n0.881481481481\n0.0007\n"
     ]
    },
    {
     "name": "stdout",
     "output_type": "stream",
     "text": [
      "1.0\n0.651851851852\n0.888888888889\n0.0008\n1.0\n0.57037037037\n0.851851851852\n0.0009\n"
     ]
    },
    {
     "name": "stdout",
     "output_type": "stream",
     "text": [
      "1.0\n0.651851851852\n0.881481481481\n0.0\n1.0\n0.62962962963\n0.8\n0.0001\n"
     ]
    },
    {
     "name": "stdout",
     "output_type": "stream",
     "text": [
      "1.0\n0.644444444444\n0.888888888889\n0.0002\n1.0\n0.622222222222\n0.851851851852\n0.0003\n"
     ]
    },
    {
     "name": "stdout",
     "output_type": "stream",
     "text": [
      "1.0\n0.62962962963\n0.837037037037\n0.0004\n1.0\n0.637037037037\n0.814814814815\n0.0005\n"
     ]
    },
    {
     "name": "stdout",
     "output_type": "stream",
     "text": [
      "1.0\n0.592592592593\n0.888888888889\n0.0006\n1.0\n0.696296296296\n0.851851851852\n0.0007\n"
     ]
    },
    {
     "name": "stdout",
     "output_type": "stream",
     "text": [
      "1.0\n0.607407407407\n0.874074074074\n0.0008\n1.0\n0.681481481481\n0.814814814815\n0.0009\n"
     ]
    },
    {
     "name": "stdout",
     "output_type": "stream",
     "text": [
      "1.0\n0.659259259259\n0.948148148148\n0.0\n1.0\n0.681481481481\n0.933333333333\n0.0001\n"
     ]
    },
    {
     "name": "stdout",
     "output_type": "stream",
     "text": [
      "1.0\n0.681481481481\n0.911111111111\n0.0002\n1.0\n0.62962962963\n0.903703703704\n0.0003\n"
     ]
    },
    {
     "name": "stdout",
     "output_type": "stream",
     "text": [
      "1.0\n0.659259259259\n0.911111111111\n0.0004\n1.0\n0.718518518519\n0.859259259259\n0.0005\n"
     ]
    },
    {
     "name": "stdout",
     "output_type": "stream",
     "text": [
      "1.0\n0.644444444444\n0.874074074074\n0.0006\n1.0\n0.688888888889\n0.859259259259\n0.0007\n"
     ]
    },
    {
     "name": "stdout",
     "output_type": "stream",
     "text": [
      "1.0\n0.651851851852\n0.866666666667\n0.0008\n1.0\n0.725925925926\n0.881481481481\n0.0009\n"
     ]
    },
    {
     "name": "stdout",
     "output_type": "stream",
     "text": [
      "1.0\n0.688888888889\n0.814814814815\n0.0\n1.0\n0.674074074074\n0.911111111111\n0.0001\n"
     ]
    },
    {
     "name": "stdout",
     "output_type": "stream",
     "text": [
      "1.0\n0.592592592593\n0.955555555556\n0.0002\n1.0\n0.6\n0.814814814815\n0.0003\n"
     ]
    },
    {
     "name": "stdout",
     "output_type": "stream",
     "text": [
      "1.0\n0.592592592593\n0.8\n0.0004\n1.0\n0.711111111111\n0.933333333333\n0.0005\n"
     ]
    },
    {
     "name": "stdout",
     "output_type": "stream",
     "text": [
      "1.0\n0.622222222222\n0.8\n0.0006\n1.0\n0.607407407407\n0.859259259259\n0.0007\n"
     ]
    },
    {
     "name": "stdout",
     "output_type": "stream",
     "text": [
      "1.0\n0.659259259259\n0.925925925926\n0.0008\n1.0\n0.614814814815\n0.851851851852\n0.0009\n"
     ]
    },
    {
     "name": "stdout",
     "output_type": "stream",
     "text": [
      "1.0\n0.607407407407\n0.851851851852\n0.0\n1.0\n0.659259259259\n0.933333333333\n0.0001\n"
     ]
    },
    {
     "name": "stdout",
     "output_type": "stream",
     "text": [
      "1.0\n0.681481481481\n0.918518518519\n0.0002\n1.0\n0.666666666667\n0.925925925926\n0.0003\n"
     ]
    },
    {
     "name": "stdout",
     "output_type": "stream",
     "text": [
      "1.0\n0.659259259259\n0.777777777778\n0.0004\n1.0\n0.637037037037\n0.911111111111\n0.0005\n"
     ]
    },
    {
     "name": "stdout",
     "output_type": "stream",
     "text": [
      "1.0\n0.592592592593\n0.859259259259\n0.0006\n1.0\n0.57037037037\n0.940740740741\n0.0007\n"
     ]
    },
    {
     "name": "stdout",
     "output_type": "stream",
     "text": [
      "1.0\n0.577777777778\n0.888888888889\n0.0008\n1.0\n0.659259259259\n0.881481481481\n0.0009\n"
     ]
    },
    {
     "name": "stdout",
     "output_type": "stream",
     "text": [
      "1.0\n0.674074074074\n0.8\n0.0\n1.0\n0.57037037037\n0.903703703704\n0.0001\n"
     ]
    },
    {
     "name": "stdout",
     "output_type": "stream",
     "text": [
      "1.0\n0.711111111111\n0.925925925926\n0.0002\n1.0\n0.62962962963\n0.874074074074\n0.0003\n"
     ]
    },
    {
     "name": "stdout",
     "output_type": "stream",
     "text": [
      "1.0\n0.659259259259\n0.866666666667\n0.0004\n1.0\n0.62962962963\n0.874074074074\n0.0005\n"
     ]
    },
    {
     "name": "stdout",
     "output_type": "stream",
     "text": [
      "1.0\n0.62962962963\n0.792592592593\n0.0006\n1.0\n0.674074074074\n0.859259259259\n0.0007\n"
     ]
    },
    {
     "name": "stdout",
     "output_type": "stream",
     "text": [
      "1.0\n0.659259259259\n0.866666666667\n0.0008\n1.0\n0.674074074074\n0.851851851852\n0.0009\n"
     ]
    },
    {
     "name": "stdout",
     "output_type": "stream",
     "text": [
      "1.0\n0.644444444444\n0.933333333333\n0.0\n1.0\n0.666666666667\n0.866666666667\n0.0001\n"
     ]
    },
    {
     "name": "stdout",
     "output_type": "stream",
     "text": [
      "1.0\n0.62962962963\n0.933333333333\n0.0002\n1.0\n0.585185185185\n0.925925925926\n0.0003\n"
     ]
    },
    {
     "name": "stdout",
     "output_type": "stream",
     "text": [
      "1.0\n0.659259259259\n0.903703703704\n0.0004\n1.0\n0.607407407407\n0.918518518519\n0.0005\n"
     ]
    },
    {
     "name": "stdout",
     "output_type": "stream",
     "text": [
      "1.0\n0.666666666667\n0.792592592593\n0.0006\n1.0\n0.666666666667\n0.896296296296\n0.0007\n"
     ]
    },
    {
     "name": "stdout",
     "output_type": "stream",
     "text": [
      "1.0\n0.674074074074\n0.903703703704\n0.0008\n1.0\n0.688888888889\n0.881481481481\n0.0009\n"
     ]
    },
    {
     "name": "stdout",
     "output_type": "stream",
     "text": [
      "1.0\n0.622222222222\n0.755555555556\n0.0\n1.0\n0.644444444444\n0.859259259259\n0.0001\n"
     ]
    },
    {
     "name": "stdout",
     "output_type": "stream",
     "text": [
      "1.0\n0.592592592593\n0.940740740741\n0.0002\n1.0\n0.622222222222\n0.881481481481\n0.0003\n"
     ]
    },
    {
     "name": "stdout",
     "output_type": "stream",
     "text": [
      "1.0\n0.592592592593\n0.837037037037\n0.0004\n1.0\n0.585185185185\n0.874074074074\n0.0005\n"
     ]
    },
    {
     "name": "stdout",
     "output_type": "stream",
     "text": [
      "1.0\n0.622222222222\n0.837037037037\n0.0006\n1.0\n0.659259259259\n0.837037037037\n0.0007\n"
     ]
    },
    {
     "name": "stdout",
     "output_type": "stream",
     "text": [
      "1.0\n0.637037037037\n0.807407407407\n0.0008\n1.0\n0.681481481481\n0.837037037037\n0.0009\n"
     ]
    },
    {
     "name": "stdout",
     "output_type": "stream",
     "text": [
      "1.0\n0.644444444444\n0.807407407407\n0.0\n1.0\n0.637037037037\n0.925925925926\n0.0001\n"
     ]
    },
    {
     "name": "stdout",
     "output_type": "stream",
     "text": [
      "1.0\n0.637037037037\n0.896296296296\n0.0002\n1.0\n0.637037037037\n0.881481481481\n0.0003\n"
     ]
    },
    {
     "name": "stdout",
     "output_type": "stream",
     "text": [
      "1.0\n0.659259259259\n0.866666666667\n0.0004\n1.0\n0.622222222222\n0.962962962963\n0.0005\n"
     ]
    },
    {
     "name": "stdout",
     "output_type": "stream",
     "text": [
      "1.0\n0.637037037037\n0.925925925926\n0.0006\n1.0\n0.659259259259\n0.844444444444\n0.0007\n"
     ]
    },
    {
     "name": "stdout",
     "output_type": "stream",
     "text": [
      "1.0\n0.674074074074\n0.948148148148\n0.0008\n1.0\n0.651851851852\n0.874074074074\n0.0009\n"
     ]
    },
    {
     "name": "stdout",
     "output_type": "stream",
     "text": [
      "1.0\n0.674074074074\n0.903703703704\n0.0\n1.0\n0.651851851852\n0.925925925926\n0.0001\n"
     ]
    },
    {
     "name": "stdout",
     "output_type": "stream",
     "text": [
      "1.0\n0.651851851852\n0.911111111111\n0.0002\n1.0\n0.651851851852\n0.903703703704\n0.0003\n"
     ]
    },
    {
     "name": "stdout",
     "output_type": "stream",
     "text": [
      "1.0\n0.659259259259\n0.874074074074\n0.0004\n1.0\n0.614814814815\n0.925925925926\n0.0005\n"
     ]
    },
    {
     "name": "stdout",
     "output_type": "stream",
     "text": [
      "1.0\n0.637037037037\n0.881481481481\n0.0006\n1.0\n0.644444444444\n0.844444444444\n0.0007\n"
     ]
    },
    {
     "name": "stdout",
     "output_type": "stream",
     "text": [
      "1.0\n0.6\n0.911111111111\n0.0008\n1.0\n0.644444444444\n0.807407407407\n0.0009\n"
     ]
    },
    {
     "name": "stdout",
     "output_type": "stream",
     "text": [
      "1.0\n0.637037037037\n0.837037037037\n0.0\n1.0\n0.651851851852\n0.822222222222\n0.0001\n"
     ]
    },
    {
     "name": "stdout",
     "output_type": "stream",
     "text": [
      "1.0\n0.644444444444\n0.933333333333\n0.0002\n1.0\n0.674074074074\n0.792592592593\n0.0003\n"
     ]
    },
    {
     "name": "stdout",
     "output_type": "stream",
     "text": [
      "1.0\n0.681481481481\n0.918518518519\n0.0004\n1.0\n0.681481481481\n0.903703703704\n0.0005\n"
     ]
    },
    {
     "name": "stdout",
     "output_type": "stream",
     "text": [
      "1.0\n0.659259259259\n0.851851851852\n0.0006\n1.0\n0.651851851852\n0.911111111111\n0.0007\n"
     ]
    },
    {
     "name": "stdout",
     "output_type": "stream",
     "text": [
      "1.0\n0.674074074074\n0.814814814815\n0.0008\n1.0\n0.622222222222\n0.866666666667\n0.0009\n"
     ]
    },
    {
     "name": "stdout",
     "output_type": "stream",
     "text": [
      "1.0\n0.585185185185\n0.911111111111\n0.0\n1.0\n0.62962962963\n0.918518518519\n0.0001\n"
     ]
    },
    {
     "name": "stdout",
     "output_type": "stream",
     "text": [
      "1.0\n0.696296296296\n0.903703703704\n0.0002\n1.0\n0.681481481481\n0.896296296296\n0.0003\n"
     ]
    },
    {
     "name": "stdout",
     "output_type": "stream",
     "text": [
      "1.0\n0.644444444444\n0.837037037037\n0.0004\n1.0\n0.62962962963\n0.918518518519\n0.0005\n"
     ]
    },
    {
     "name": "stdout",
     "output_type": "stream",
     "text": [
      "1.0\n0.659259259259\n0.918518518519\n0.0006\n1.0\n0.607407407407\n0.8\n0.0007\n"
     ]
    },
    {
     "name": "stdout",
     "output_type": "stream",
     "text": [
      "1.0\n0.62962962963\n0.911111111111\n0.0008\n1.0\n0.62962962963\n0.822222222222\n0.0009\n"
     ]
    },
    {
     "name": "stdout",
     "output_type": "stream",
     "text": [
      "1.0\n0.681481481481\n0.866666666667\n0.0\n1.0\n0.651851851852\n0.881481481481\n0.0001\n"
     ]
    },
    {
     "name": "stdout",
     "output_type": "stream",
     "text": [
      "1.0\n0.659259259259\n0.82962962963\n0.0002\n1.0\n0.622222222222\n0.859259259259\n0.0003\n"
     ]
    },
    {
     "name": "stdout",
     "output_type": "stream",
     "text": [
      "1.0\n0.681481481481\n0.881481481481\n0.0004\n1.0\n0.592592592593\n0.925925925926\n0.0005\n"
     ]
    },
    {
     "name": "stdout",
     "output_type": "stream",
     "text": [
      "1.0\n0.651851851852\n0.866666666667\n0.0006\n1.0\n0.674074074074\n0.903703703704\n0.0007\n"
     ]
    },
    {
     "name": "stdout",
     "output_type": "stream",
     "text": [
      "1.0\n0.57037037037\n0.874074074074\n0.0008\n1.0\n0.666666666667\n0.866666666667\n0.0009\n"
     ]
    },
    {
     "name": "stdout",
     "output_type": "stream",
     "text": [
      "1.0\n0.651851851852\n0.933333333333\n0.0\n1.0\n0.651851851852\n0.866666666667\n0.0001\n"
     ]
    },
    {
     "name": "stdout",
     "output_type": "stream",
     "text": [
      "1.0\n0.666666666667\n0.844444444444\n0.0002\n1.0\n0.681481481481\n0.874074074074\n0.0003\n"
     ]
    },
    {
     "name": "stdout",
     "output_type": "stream",
     "text": [
      "1.0\n0.644444444444\n0.903703703704\n0.0004\n1.0\n0.644444444444\n0.792592592593\n0.0005\n"
     ]
    },
    {
     "name": "stdout",
     "output_type": "stream",
     "text": [
      "1.0\n0.622222222222\n0.888888888889\n0.0006\n1.0\n0.540740740741\n0.888888888889\n0.0007\n"
     ]
    },
    {
     "name": "stdout",
     "output_type": "stream",
     "text": [
      "1.0\n0.674074074074\n0.881481481481\n0.0008\n1.0\n0.674074074074\n0.918518518519\n0.0009\n"
     ]
    },
    {
     "name": "stdout",
     "output_type": "stream",
     "text": [
      "1.0\n0.681481481481\n0.881481481481\n0.0\n1.0\n0.644444444444\n0.888888888889\n0.0001\n"
     ]
    },
    {
     "name": "stdout",
     "output_type": "stream",
     "text": [
      "1.0\n0.622222222222\n0.814814814815\n0.0002\n1.0\n0.62962962963\n0.896296296296\n0.0003\n"
     ]
    },
    {
     "name": "stdout",
     "output_type": "stream",
     "text": [
      "1.0\n0.659259259259\n0.903703703704\n0.0004\n1.0\n0.651851851852\n0.82962962963\n0.0005\n"
     ]
    },
    {
     "name": "stdout",
     "output_type": "stream",
     "text": [
      "1.0\n0.644444444444\n0.911111111111\n0.0006\n1.0\n0.62962962963\n0.940740740741\n0.0007\n"
     ]
    },
    {
     "name": "stdout",
     "output_type": "stream",
     "text": [
      "1.0\n0.674074074074\n0.837037037037\n0.0008\n1.0\n0.681481481481\n0.896296296296\n0.0009\n"
     ]
    },
    {
     "name": "stdout",
     "output_type": "stream",
     "text": [
      "1.0\n0.674074074074\n0.888888888889\n0.0\n1.0\n0.651851851852\n0.859259259259\n0.0001\n"
     ]
    },
    {
     "name": "stdout",
     "output_type": "stream",
     "text": [
      "1.0\n0.62962962963\n0.911111111111\n0.0002\n1.0\n0.681481481481\n0.881481481481\n0.0003\n"
     ]
    },
    {
     "name": "stdout",
     "output_type": "stream",
     "text": [
      "1.0\n0.696296296296\n0.911111111111\n0.0004\n1.0\n0.666666666667\n0.851851851852\n0.0005\n"
     ]
    },
    {
     "name": "stdout",
     "output_type": "stream",
     "text": [
      "1.0\n0.674074074074\n0.888888888889\n0.0006\n1.0\n0.659259259259\n0.844444444444\n0.0007\n"
     ]
    },
    {
     "name": "stdout",
     "output_type": "stream",
     "text": [
      "1.0\n0.674074074074\n0.933333333333\n0.0008\n1.0\n0.674074074074\n0.874074074074\n0.0009\n"
     ]
    },
    {
     "name": "stdout",
     "output_type": "stream",
     "text": [
      "1.0\n0.622222222222\n0.859259259259\n0.0\n1.0\n0.674074074074\n0.903703703704\n0.0001\n"
     ]
    },
    {
     "name": "stdout",
     "output_type": "stream",
     "text": [
      "1.0\n0.681481481481\n0.903703703704\n0.0002\n1.0\n0.681481481481\n0.859259259259\n0.0003\n"
     ]
    },
    {
     "name": "stdout",
     "output_type": "stream",
     "text": [
      "1.0\n0.562962962963\n0.866666666667\n0.0004\n1.0\n0.681481481481\n0.866666666667\n0.0005\n"
     ]
    },
    {
     "name": "stdout",
     "output_type": "stream",
     "text": [
      "1.0\n0.62962962963\n0.940740740741\n0.0006\n1.0\n0.666666666667\n0.903703703704\n0.0007\n"
     ]
    },
    {
     "name": "stdout",
     "output_type": "stream",
     "text": [
      "1.0\n0.644444444444\n0.866666666667\n0.0008\n1.0\n0.681481481481\n0.814814814815\n0.0009\n"
     ]
    },
    {
     "name": "stdout",
     "output_type": "stream",
     "text": [
      "1.0\n0.577777777778\n0.896296296296\n0.0\n1.0\n0.62962962963\n0.866666666667\n0.0001\n"
     ]
    },
    {
     "name": "stdout",
     "output_type": "stream",
     "text": [
      "1.0\n0.666666666667\n0.925925925926\n0.0002\n1.0\n0.659259259259\n0.785185185185\n0.0003\n"
     ]
    },
    {
     "name": "stdout",
     "output_type": "stream",
     "text": [
      "1.0\n0.637037037037\n0.896296296296\n0.0004\n1.0\n0.688888888889\n0.866666666667\n0.0005\n"
     ]
    },
    {
     "name": "stdout",
     "output_type": "stream",
     "text": [
      "1.0\n0.637037037037\n0.8\n0.0006\n1.0\n0.651851851852\n0.837037037037\n0.0007\n"
     ]
    },
    {
     "name": "stdout",
     "output_type": "stream",
     "text": [
      "1.0\n0.688888888889\n0.844444444444\n0.0008\n1.0\n0.659259259259\n0.911111111111\n0.0009\n"
     ]
    },
    {
     "name": "stdout",
     "output_type": "stream",
     "text": [
      "1.0\n0.644444444444\n0.888888888889\n0.0\n1.0\n0.688888888889\n0.911111111111\n0.0001\n"
     ]
    },
    {
     "name": "stdout",
     "output_type": "stream",
     "text": [
      "1.0\n0.666666666667\n0.918518518519\n0.0002\n1.0\n0.681481481481\n0.933333333333\n0.0003\n"
     ]
    },
    {
     "name": "stdout",
     "output_type": "stream",
     "text": [
      "1.0\n0.651851851852\n0.822222222222\n0.0004\n1.0\n0.577777777778\n0.911111111111\n0.0005\n"
     ]
    },
    {
     "name": "stdout",
     "output_type": "stream",
     "text": [
      "1.0\n0.6\n0.851851851852\n0.0006\n1.0\n0.674074074074\n0.82962962963\n0.0007\n"
     ]
    },
    {
     "name": "stdout",
     "output_type": "stream",
     "text": [
      "1.0\n0.637037037037\n0.874074074074\n0.0008\n1.0\n0.651851851852\n0.888888888889\n0.0009\n"
     ]
    },
    {
     "name": "stdout",
     "output_type": "stream",
     "text": [
      "1.0\n0.6\n0.851851851852\n0.0\n1.0\n0.577777777778\n0.911111111111\n0.0001\n"
     ]
    },
    {
     "name": "stdout",
     "output_type": "stream",
     "text": [
      "1.0\n0.637037037037\n0.844444444444\n0.0002\n1.0\n0.644444444444\n0.911111111111\n0.0003\n"
     ]
    },
    {
     "name": "stdout",
     "output_type": "stream",
     "text": [
      "1.0\n0.659259259259\n0.896296296296\n0.0004\n1.0\n0.659259259259\n0.918518518519\n0.0005\n"
     ]
    },
    {
     "name": "stdout",
     "output_type": "stream",
     "text": [
      "1.0\n0.659259259259\n0.933333333333\n0.0006\n1.0\n0.607407407407\n0.888888888889\n0.0007\n"
     ]
    },
    {
     "name": "stdout",
     "output_type": "stream",
     "text": [
      "1.0\n0.57037037037\n0.844444444444\n0.0008\n1.0\n0.681481481481\n0.82962962963\n0.0009\n"
     ]
    },
    {
     "name": "stdout",
     "output_type": "stream",
     "text": [
      "1.0\n0.607407407407\n0.874074074074\n0.0\n1.0\n0.644444444444\n0.918518518519\n0.0001\n"
     ]
    },
    {
     "name": "stdout",
     "output_type": "stream",
     "text": [
      "1.0\n0.688888888889\n0.859259259259\n0.0002\n1.0\n0.674074074074\n0.925925925926\n0.0003\n"
     ]
    },
    {
     "name": "stdout",
     "output_type": "stream",
     "text": [
      "1.0\n0.681481481481\n0.8\n0.0004\n1.0\n0.548148148148\n0.896296296296\n0.0005\n"
     ]
    },
    {
     "name": "stdout",
     "output_type": "stream",
     "text": [
      "1.0\n0.607407407407\n0.911111111111\n0.0006\n1.0\n0.614814814815\n0.911111111111\n0.0007\n"
     ]
    },
    {
     "name": "stdout",
     "output_type": "stream",
     "text": [
      "1.0\n0.592592592593\n0.866666666667\n0.0008\n1.0\n0.666666666667\n0.881481481481\n0.0009\n"
     ]
    },
    {
     "name": "stdout",
     "output_type": "stream",
     "text": [
      "1.0\n0.62962962963\n0.8\n0.0\n1.0\n0.659259259259\n0.77037037037\n0.0001\n"
     ]
    },
    {
     "name": "stdout",
     "output_type": "stream",
     "text": [
      "1.0\n0.674074074074\n0.859259259259\n0.0002\n1.0\n0.696296296296\n0.792592592593\n0.0003\n"
     ]
    },
    {
     "name": "stdout",
     "output_type": "stream",
     "text": [
      "1.0\n0.614814814815\n0.822222222222\n0.0004\n1.0\n0.651851851852\n0.896296296296\n0.0005\n"
     ]
    },
    {
     "name": "stdout",
     "output_type": "stream",
     "text": [
      "1.0\n0.62962962963\n0.859259259259\n0.0006\n1.0\n0.62962962963\n0.918518518519\n0.0007\n"
     ]
    },
    {
     "name": "stdout",
     "output_type": "stream",
     "text": [
      "1.0\n0.681481481481\n0.911111111111\n0.0008\n1.0\n0.614814814815\n0.866666666667\n0.0009\n"
     ]
    },
    {
     "name": "stdout",
     "output_type": "stream",
     "text": [
      "1.0\n0.696296296296\n0.918518518519\n0.0\n1.0\n0.637037037037\n0.925925925926\n0.0001\n"
     ]
    },
    {
     "name": "stdout",
     "output_type": "stream",
     "text": [
      "1.0\n0.62962962963\n0.888888888889\n0.0002\n1.0\n0.585185185185\n0.903703703704\n0.0003\n"
     ]
    },
    {
     "name": "stdout",
     "output_type": "stream",
     "text": [
      "1.0\n0.651851851852\n0.896296296296\n0.0004\n1.0\n0.622222222222\n0.896296296296\n0.0005\n"
     ]
    },
    {
     "name": "stdout",
     "output_type": "stream",
     "text": [
      "1.0\n0.659259259259\n0.925925925926\n0.0006\n1.0\n0.681481481481\n0.82962962963\n0.0007\n"
     ]
    },
    {
     "name": "stdout",
     "output_type": "stream",
     "text": [
      "1.0\n0.666666666667\n0.851851851852\n0.0008\n1.0\n0.651851851852\n0.851851851852\n0.0009\n"
     ]
    },
    {
     "name": "stdout",
     "output_type": "stream",
     "text": [
      "1.0\n0.659259259259\n0.881481481481\n0.0\n1.0\n0.681481481481\n0.896296296296\n0.0001\n"
     ]
    },
    {
     "name": "stdout",
     "output_type": "stream",
     "text": [
      "1.0\n0.674074074074\n0.940740740741\n0.0002\n1.0\n0.659259259259\n0.844444444444\n0.0003\n"
     ]
    },
    {
     "name": "stdout",
     "output_type": "stream",
     "text": [
      "1.0\n0.637037037037\n0.918518518519\n0.0004\n1.0\n0.674074074074\n0.814814814815\n0.0005\n"
     ]
    },
    {
     "name": "stdout",
     "output_type": "stream",
     "text": [
      "1.0\n0.62962962963\n0.8\n0.0006\n1.0\n0.644444444444\n0.837037037037\n0.0007\n"
     ]
    },
    {
     "name": "stdout",
     "output_type": "stream",
     "text": [
      "1.0\n0.666666666667\n0.903703703704\n0.0008\n1.0\n0.681481481481\n0.918518518519\n0.0009\n"
     ]
    },
    {
     "name": "stdout",
     "output_type": "stream",
     "text": [
      "1.0\n0.637037037037\n0.918518518519\n0.0\n1.0\n0.666666666667\n0.911111111111\n0.0001\n"
     ]
    },
    {
     "name": "stdout",
     "output_type": "stream",
     "text": [
      "1.0\n0.666666666667\n0.896296296296\n0.0002\n1.0\n0.62962962963\n0.940740740741\n0.0003\n"
     ]
    },
    {
     "name": "stdout",
     "output_type": "stream",
     "text": [
      "1.0\n0.681481481481\n0.851851851852\n0.0004\n1.0\n0.659259259259\n0.874074074074\n0.0005\n"
     ]
    },
    {
     "name": "stdout",
     "output_type": "stream",
     "text": [
      "1.0\n0.674074074074\n0.881481481481\n0.0006\n1.0\n0.674074074074\n0.896296296296\n0.0007\n"
     ]
    },
    {
     "name": "stdout",
     "output_type": "stream",
     "text": [
      "1.0\n0.62962962963\n0.918518518519\n0.0008\n1.0\n0.651851851852\n0.82962962963\n0.0009\n"
     ]
    },
    {
     "name": "stdout",
     "output_type": "stream",
     "text": [
      "1.0\n0.681481481481\n0.874074074074\n0.0\n1.0\n0.6\n0.888888888889\n0.0001\n"
     ]
    },
    {
     "name": "stdout",
     "output_type": "stream",
     "text": [
      "1.0\n0.62962962963\n0.933333333333\n0.0002\n1.0\n0.681481481481\n0.948148148148\n0.0003\n"
     ]
    },
    {
     "name": "stdout",
     "output_type": "stream",
     "text": [
      "1.0\n0.681481481481\n0.851851851852\n0.0004\n1.0\n0.674074074074\n0.881481481481\n0.0005\n"
     ]
    },
    {
     "name": "stdout",
     "output_type": "stream",
     "text": [
      "1.0\n0.62962962963\n0.866666666667\n0.0006\n1.0\n0.703703703704\n0.874074074074\n0.0007\n"
     ]
    },
    {
     "name": "stdout",
     "output_type": "stream",
     "text": [
      "1.0\n0.62962962963\n0.874074074074\n0.0008\n1.0\n0.659259259259\n0.807407407407\n0.0009\n"
     ]
    },
    {
     "name": "stdout",
     "output_type": "stream",
     "text": [
      "1.0\n0.607407407407\n0.903703703704\n0.0\n1.0\n0.614814814815\n0.903703703704\n0.0001\n"
     ]
    },
    {
     "name": "stdout",
     "output_type": "stream",
     "text": [
      "1.0\n0.681481481481\n0.874074074074\n0.0002\n1.0\n0.681481481481\n0.911111111111\n0.0003\n"
     ]
    },
    {
     "name": "stdout",
     "output_type": "stream",
     "text": [
      "1.0\n0.688888888889\n0.933333333333\n0.0004\n1.0\n0.62962962963\n0.896296296296\n0.0005\n"
     ]
    },
    {
     "name": "stdout",
     "output_type": "stream",
     "text": [
      "1.0\n0.681481481481\n0.762962962963\n0.0006\n1.0\n0.681481481481\n0.881481481481\n0.0007\n"
     ]
    },
    {
     "name": "stdout",
     "output_type": "stream",
     "text": [
      "1.0\n0.62962962963\n0.955555555556\n0.0008\n1.0\n0.681481481481\n0.918518518519\n0.0009\n"
     ]
    },
    {
     "name": "stdout",
     "output_type": "stream",
     "text": [
      "1.0\n0.644444444444\n0.896296296296\n0.0\n1.0\n0.674074074074\n0.911111111111\n0.0001\n"
     ]
    },
    {
     "name": "stdout",
     "output_type": "stream",
     "text": [
      "1.0\n0.666666666667\n0.896296296296\n0.0002\n1.0\n0.622222222222\n0.911111111111\n0.0003\n"
     ]
    },
    {
     "name": "stdout",
     "output_type": "stream",
     "text": [
      "1.0\n0.622222222222\n0.792592592593\n0.0004\n1.0\n0.651851851852\n0.792592592593\n0.0005\n"
     ]
    },
    {
     "name": "stdout",
     "output_type": "stream",
     "text": [
      "1.0\n0.644444444444\n0.948148148148\n0.0006\n1.0\n0.651851851852\n0.888888888889\n0.0007\n"
     ]
    },
    {
     "name": "stdout",
     "output_type": "stream",
     "text": [
      "1.0\n0.622222222222\n0.874074074074\n0.0008\n1.0\n0.681481481481\n0.874074074074\n0.0009\n"
     ]
    },
    {
     "name": "stdout",
     "output_type": "stream",
     "text": [
      "1.0\n0.666666666667\n0.881481481481\n0.0\n1.0\n0.659259259259\n0.925925925926\n0.0001\n"
     ]
    },
    {
     "name": "stdout",
     "output_type": "stream",
     "text": [
      "1.0\n0.651851851852\n0.866666666667\n0.0002\n1.0\n0.555555555556\n0.844444444444\n0.0003\n"
     ]
    },
    {
     "name": "stdout",
     "output_type": "stream",
     "text": [
      "1.0\n0.688888888889\n0.888888888889\n0.0004\n1.0\n0.622222222222\n0.874074074074\n0.0005\n"
     ]
    },
    {
     "name": "stdout",
     "output_type": "stream",
     "text": [
      "1.0\n0.659259259259\n0.925925925926\n0.0006\n1.0\n0.62962962963\n0.888888888889\n0.0007\n"
     ]
    },
    {
     "name": "stdout",
     "output_type": "stream",
     "text": [
      "1.0\n0.666666666667\n0.82962962963\n0.0008\n1.0\n0.666666666667\n0.866666666667\n0.0009\n"
     ]
    },
    {
     "name": "stdout",
     "output_type": "stream",
     "text": [
      "1.0\n0.637037037037\n0.925925925926\n0.0\n1.0\n0.6\n0.933333333333\n0.0001\n"
     ]
    },
    {
     "name": "stdout",
     "output_type": "stream",
     "text": [
      "1.0\n0.666666666667\n0.881481481481\n0.0002\n1.0\n0.622222222222\n0.851851851852\n0.0003\n"
     ]
    },
    {
     "name": "stdout",
     "output_type": "stream",
     "text": [
      "1.0\n0.644444444444\n0.866666666667\n0.0004\n1.0\n0.681481481481\n0.837037037037\n0.0005\n"
     ]
    },
    {
     "name": "stdout",
     "output_type": "stream",
     "text": [
      "1.0\n0.674074074074\n0.948148148148\n0.0006\n1.0\n0.62962962963\n0.896296296296\n0.0007\n"
     ]
    },
    {
     "name": "stdout",
     "output_type": "stream",
     "text": [
      "1.0\n0.659259259259\n0.911111111111\n0.0008\n1.0\n0.666666666667\n0.933333333333\n0.0009\n"
     ]
    },
    {
     "name": "stdout",
     "output_type": "stream",
     "text": [
      "1.0\n0.666666666667\n0.822222222222\n0.0\n1.0\n0.637037037037\n0.859259259259\n0.0001\n"
     ]
    },
    {
     "name": "stdout",
     "output_type": "stream",
     "text": [
      "1.0\n0.644444444444\n0.837037037037\n0.0002\n1.0\n0.637037037037\n0.955555555556\n0.0003\n"
     ]
    },
    {
     "name": "stdout",
     "output_type": "stream",
     "text": [
      "1.0\n0.688888888889\n0.925925925926\n0.0004\n1.0\n0.62962962963\n0.896296296296\n0.0005\n"
     ]
    },
    {
     "name": "stdout",
     "output_type": "stream",
     "text": [
      "1.0\n0.681481481481\n0.925925925926\n0.0006\n1.0\n0.637037037037\n0.851851851852\n0.0007\n"
     ]
    },
    {
     "name": "stdout",
     "output_type": "stream",
     "text": [
      "1.0\n0.659259259259\n0.874074074074\n0.0008\n1.0\n0.62962962963\n0.881481481481\n0.0009\n"
     ]
    },
    {
     "name": "stdout",
     "output_type": "stream",
     "text": [
      "1.0\n0.651851851852\n0.903703703704\n0.0\n1.0\n0.681481481481\n0.814814814815\n0.0001\n"
     ]
    },
    {
     "name": "stdout",
     "output_type": "stream",
     "text": [
      "1.0\n0.659259259259\n0.903703703704\n0.0002\n1.0\n0.62962962963\n0.911111111111\n0.0003\n"
     ]
    },
    {
     "name": "stdout",
     "output_type": "stream",
     "text": [
      "1.0\n0.622222222222\n0.874074074074\n0.0004\n1.0\n0.688888888889\n0.888888888889\n0.0005\n"
     ]
    },
    {
     "name": "stdout",
     "output_type": "stream",
     "text": [
      "1.0\n0.622222222222\n0.896296296296\n0.0006\n1.0\n0.614814814815\n0.918518518519\n0.0007\n"
     ]
    },
    {
     "name": "stdout",
     "output_type": "stream",
     "text": [
      "1.0\n0.674074074074\n0.837037037037\n0.0008\n1.0\n0.681481481481\n0.911111111111\n0.0009\n"
     ]
    },
    {
     "name": "stdout",
     "output_type": "stream",
     "text": [
      "1.0\n0.718518518519\n0.822222222222\n0.0\n1.0\n0.659259259259\n0.911111111111\n0.0001\n"
     ]
    },
    {
     "name": "stdout",
     "output_type": "stream",
     "text": [
      "1.0\n0.637037037037\n0.881481481481\n0.0002\n1.0\n0.703703703704\n0.859259259259\n0.0003\n"
     ]
    },
    {
     "name": "stdout",
     "output_type": "stream",
     "text": [
      "1.0\n0.637037037037\n0.837037037037\n0.0004\n1.0\n0.585185185185\n0.844444444444\n0.0005\n"
     ]
    },
    {
     "name": "stdout",
     "output_type": "stream",
     "text": [
      "1.0\n0.696296296296\n0.940740740741\n0.0006\n1.0\n0.674074074074\n0.837037037037\n0.0007\n"
     ]
    },
    {
     "name": "stdout",
     "output_type": "stream",
     "text": [
      "1.0\n0.681481481481\n0.8\n0.0008\n1.0\n0.651851851852\n0.933333333333\n0.0009\n"
     ]
    },
    {
     "name": "stdout",
     "output_type": "stream",
     "text": [
      "1.0\n0.644444444444\n0.881481481481\n0.0\n1.0\n0.681481481481\n0.866666666667\n0.0001\n"
     ]
    },
    {
     "name": "stdout",
     "output_type": "stream",
     "text": [
      "1.0\n0.614814814815\n0.888888888889\n0.0002\n1.0\n0.592592592593\n0.874074074074\n0.0003\n"
     ]
    },
    {
     "name": "stdout",
     "output_type": "stream",
     "text": [
      "1.0\n0.651851851852\n0.866666666667\n0.0004\n1.0\n0.62962962963\n0.903703703704\n0.0005\n"
     ]
    },
    {
     "name": "stdout",
     "output_type": "stream",
     "text": [
      "1.0\n0.637037037037\n0.866666666667\n0.0006\n1.0\n0.674074074074\n0.918518518519\n0.0007\n"
     ]
    },
    {
     "name": "stdout",
     "output_type": "stream",
     "text": [
      "1.0\n0.57037037037\n0.844444444444\n0.0008\n1.0\n0.666666666667\n0.859259259259\n0.0009\n"
     ]
    },
    {
     "name": "stdout",
     "output_type": "stream",
     "text": [
      "1.0\n0.696296296296\n0.925925925926\n0.0\n1.0\n0.659259259259\n0.911111111111\n0.0001\n"
     ]
    },
    {
     "name": "stdout",
     "output_type": "stream",
     "text": [
      "1.0\n0.644444444444\n0.844444444444\n0.0002\n1.0\n0.592592592593\n0.844444444444\n0.0003\n"
     ]
    },
    {
     "name": "stdout",
     "output_type": "stream",
     "text": [
      "1.0\n0.688888888889\n0.866666666667\n0.0004\n1.0\n0.622222222222\n0.925925925926\n0.0005\n"
     ]
    },
    {
     "name": "stdout",
     "output_type": "stream",
     "text": [
      "1.0\n0.681481481481\n0.874074074074\n0.0006\n1.0\n0.614814814815\n0.881481481481\n0.0007\n"
     ]
    },
    {
     "name": "stdout",
     "output_type": "stream",
     "text": [
      "1.0\n0.607407407407\n0.881481481481\n0.0008\n1.0\n0.659259259259\n0.792592592593\n0.0009\n"
     ]
    },
    {
     "name": "stdout",
     "output_type": "stream",
     "text": [
      "1.0\n0.651851851852\n0.874074074074\n0.0\n1.0\n0.688888888889\n0.903703703704\n0.0001\n"
     ]
    },
    {
     "name": "stdout",
     "output_type": "stream",
     "text": [
      "1.0\n0.614814814815\n0.844444444444\n0.0002\n1.0\n0.622222222222\n0.948148148148\n0.0003\n"
     ]
    },
    {
     "name": "stdout",
     "output_type": "stream",
     "text": [
      "1.0\n0.622222222222\n0.859259259259\n0.0004\n1.0\n0.659259259259\n0.837037037037\n0.0005\n"
     ]
    },
    {
     "name": "stdout",
     "output_type": "stream",
     "text": [
      "1.0\n0.614814814815\n0.911111111111\n0.0006\n1.0\n0.674074074074\n0.918518518519\n0.0007\n"
     ]
    },
    {
     "name": "stdout",
     "output_type": "stream",
     "text": [
      "1.0\n0.651851851852\n0.82962962963\n0.0008\n1.0\n0.644444444444\n0.903703703704\n0.0009\n"
     ]
    },
    {
     "name": "stdout",
     "output_type": "stream",
     "text": [
      "1.0\n0.666666666667\n0.903703703704\n0.0\n1.0\n0.666666666667\n0.888888888889\n0.0001\n"
     ]
    },
    {
     "name": "stdout",
     "output_type": "stream",
     "text": [
      "1.0\n0.674074074074\n0.82962962963\n0.0002\n1.0\n0.644444444444\n0.925925925926\n0.0003\n"
     ]
    },
    {
     "name": "stdout",
     "output_type": "stream",
     "text": [
      "1.0\n0.666666666667\n0.888888888889\n0.0004\n1.0\n0.674074074074\n0.82962962963\n0.0005\n"
     ]
    },
    {
     "name": "stdout",
     "output_type": "stream",
     "text": [
      "1.0\n0.674074074074\n0.903703703704\n0.0006\n1.0\n0.644444444444\n0.822222222222\n0.0007\n"
     ]
    },
    {
     "name": "stdout",
     "output_type": "stream",
     "text": [
      "1.0\n0.622222222222\n0.851851851852\n0.0008\n1.0\n0.607407407407\n0.940740740741\n0.0009\n"
     ]
    },
    {
     "name": "stdout",
     "output_type": "stream",
     "text": [
      "1.0\n0.622222222222\n0.925925925926\n0.0\n1.0\n0.592592592593\n0.866666666667\n0.0001\n"
     ]
    },
    {
     "name": "stdout",
     "output_type": "stream",
     "text": [
      "1.0\n0.659259259259\n0.866666666667\n0.0002\n1.0\n0.614814814815\n0.859259259259\n0.0003\n"
     ]
    },
    {
     "name": "stdout",
     "output_type": "stream",
     "text": [
      "1.0\n0.607407407407\n0.888888888889\n0.0004\n1.0\n0.644444444444\n0.740740740741\n0.0005\n"
     ]
    },
    {
     "name": "stdout",
     "output_type": "stream",
     "text": [
      "1.0\n0.592592592593\n0.888888888889\n0.0006\n1.0\n0.651851851852\n0.888888888889\n0.0007\n"
     ]
    },
    {
     "name": "stdout",
     "output_type": "stream",
     "text": [
      "1.0\n0.674074074074\n0.77037037037\n0.0008\n1.0\n0.622222222222\n0.903703703704\n0.0009\n"
     ]
    },
    {
     "name": "stdout",
     "output_type": "stream",
     "text": [
      "1.0\n0.62962962963\n0.844444444444\n0.0\n1.0\n0.62962962963\n0.911111111111\n0.0001\n"
     ]
    },
    {
     "name": "stdout",
     "output_type": "stream",
     "text": [
      "1.0\n0.622222222222\n0.903703703704\n0.0002\n1.0\n0.681481481481\n0.881481481481\n0.0003\n"
     ]
    },
    {
     "name": "stdout",
     "output_type": "stream",
     "text": [
      "1.0\n0.622222222222\n0.896296296296\n0.0004\n1.0\n0.666666666667\n0.851851851852\n0.0005\n"
     ]
    },
    {
     "name": "stdout",
     "output_type": "stream",
     "text": [
      "1.0\n0.659259259259\n0.874074074074\n0.0006\n1.0\n0.659259259259\n0.807407407407\n0.0007\n"
     ]
    },
    {
     "name": "stdout",
     "output_type": "stream",
     "text": [
      "1.0\n0.666666666667\n0.851851851852\n0.0008\n1.0\n0.688888888889\n0.888888888889\n0.0009\n"
     ]
    },
    {
     "name": "stdout",
     "output_type": "stream",
     "text": [
      "1.0\n0.651851851852\n0.762962962963\n0.0\n1.0\n0.637037037037\n0.866666666667\n0.0001\n"
     ]
    },
    {
     "name": "stdout",
     "output_type": "stream",
     "text": [
      "1.0\n0.688888888889\n0.903703703704\n0.0002\n1.0\n0.651851851852\n0.844444444444\n0.0003\n"
     ]
    },
    {
     "name": "stdout",
     "output_type": "stream",
     "text": [
      "1.0\n0.644444444444\n0.918518518519\n0.0004\n1.0\n0.607407407407\n0.844444444444\n0.0005\n"
     ]
    },
    {
     "name": "stdout",
     "output_type": "stream",
     "text": [
      "1.0\n0.681481481481\n0.881481481481\n0.0006\n1.0\n0.659259259259\n0.874074074074\n0.0007\n"
     ]
    },
    {
     "name": "stdout",
     "output_type": "stream",
     "text": [
      "1.0\n0.681481481481\n0.948148148148\n0.0008\n1.0\n0.688888888889\n0.918518518519\n0.0009\n"
     ]
    },
    {
     "name": "stdout",
     "output_type": "stream",
     "text": [
      "1.0\n0.6\n0.940740740741\n0.0\n1.0\n0.681481481481\n0.933333333333\n0.0001\n"
     ]
    },
    {
     "name": "stdout",
     "output_type": "stream",
     "text": [
      "1.0\n0.674074074074\n0.733333333333\n0.0002\n1.0\n0.607407407407\n0.807407407407\n0.0003\n"
     ]
    },
    {
     "name": "stdout",
     "output_type": "stream",
     "text": [
      "1.0\n0.622222222222\n0.948148148148\n0.0004\n1.0\n0.644444444444\n0.859259259259\n0.0005\n"
     ]
    },
    {
     "name": "stdout",
     "output_type": "stream",
     "text": [
      "1.0\n0.622222222222\n0.822222222222\n0.0006\n1.0\n0.644444444444\n0.896296296296\n0.0007\n"
     ]
    },
    {
     "name": "stdout",
     "output_type": "stream",
     "text": [
      "1.0\n0.681481481481\n0.851851851852\n0.0008\n1.0\n0.681481481481\n0.896296296296\n0.0009\n"
     ]
    },
    {
     "name": "stdout",
     "output_type": "stream",
     "text": [
      "1.0\n0.607407407407\n0.888888888889\n0.0\n1.0\n0.659259259259\n0.888888888889\n0.0001\n"
     ]
    },
    {
     "name": "stdout",
     "output_type": "stream",
     "text": [
      "1.0\n0.659259259259\n0.896296296296\n0.0002\n1.0\n0.666666666667\n0.903703703704\n0.0003\n"
     ]
    },
    {
     "name": "stdout",
     "output_type": "stream",
     "text": [
      "1.0\n0.644444444444\n0.859259259259\n0.0004\n1.0\n0.651851851852\n0.911111111111\n0.0005\n"
     ]
    },
    {
     "name": "stdout",
     "output_type": "stream",
     "text": [
      "1.0\n0.659259259259\n0.874074074074\n0.0006\n1.0\n0.637037037037\n0.881481481481\n0.0007\n"
     ]
    },
    {
     "name": "stdout",
     "output_type": "stream",
     "text": [
      "1.0\n0.6\n0.888888888889\n0.0008\n1.0\n0.622222222222\n0.896296296296\n0.0009\n"
     ]
    },
    {
     "name": "stdout",
     "output_type": "stream",
     "text": [
      "1.0\n0.674074074074\n0.940740740741\n0.0\n1.0\n0.637037037037\n0.874074074074\n0.0001\n"
     ]
    },
    {
     "name": "stdout",
     "output_type": "stream",
     "text": [
      "1.0\n0.674074074074\n0.940740740741\n0.0002\n1.0\n0.666666666667\n0.896296296296\n0.0003\n"
     ]
    },
    {
     "name": "stdout",
     "output_type": "stream",
     "text": [
      "1.0\n0.6\n0.844444444444\n0.0004\n1.0\n0.674074074074\n0.822222222222\n0.0005\n"
     ]
    },
    {
     "name": "stdout",
     "output_type": "stream",
     "text": [
      "1.0\n0.666666666667\n0.837037037037\n0.0006\n1.0\n0.666666666667\n0.940740740741\n0.0007\n"
     ]
    },
    {
     "name": "stdout",
     "output_type": "stream",
     "text": [
      "1.0\n0.622222222222\n0.911111111111\n0.0008\n1.0\n0.688888888889\n0.8\n0.0009\n"
     ]
    },
    {
     "name": "stdout",
     "output_type": "stream",
     "text": [
      "1.0\n0.681481481481\n0.844444444444\n0.0\n1.0\n0.607407407407\n0.874074074074\n0.0001\n"
     ]
    },
    {
     "name": "stdout",
     "output_type": "stream",
     "text": [
      "1.0\n0.674074074074\n0.82962962963\n0.0002\n1.0\n0.651851851852\n0.874074074074\n0.0003\n"
     ]
    },
    {
     "name": "stdout",
     "output_type": "stream",
     "text": [
      "1.0\n0.622222222222\n0.918518518519\n0.0004\n1.0\n0.644444444444\n0.881481481481\n0.0005\n"
     ]
    },
    {
     "name": "stdout",
     "output_type": "stream",
     "text": [
      "1.0\n0.659259259259\n0.896296296296\n0.0006\n1.0\n0.681481481481\n0.814814814815\n0.0007\n"
     ]
    },
    {
     "name": "stdout",
     "output_type": "stream",
     "text": [
      "1.0\n0.577777777778\n0.911111111111\n0.0008\n1.0\n0.696296296296\n0.896296296296\n0.0009\n"
     ]
    },
    {
     "name": "stdout",
     "output_type": "stream",
     "text": [
      "1.0\n0.696296296296\n0.918518518519\n0.0\n1.0\n0.644444444444\n0.911111111111\n0.0001\n"
     ]
    },
    {
     "name": "stdout",
     "output_type": "stream",
     "text": [
      "1.0\n0.666666666667\n0.896296296296\n0.0002\n1.0\n0.688888888889\n0.925925925926\n0.0003\n"
     ]
    },
    {
     "name": "stdout",
     "output_type": "stream",
     "text": [
      "1.0\n0.637037037037\n0.837037037037\n0.0004\n1.0\n0.696296296296\n0.903703703704\n0.0005\n"
     ]
    },
    {
     "name": "stdout",
     "output_type": "stream",
     "text": [
      "1.0\n0.674074074074\n0.844444444444\n0.0006\n1.0\n0.674074074074\n0.948148148148\n0.0007\n"
     ]
    },
    {
     "name": "stdout",
     "output_type": "stream",
     "text": [
      "1.0\n0.681481481481\n0.822222222222\n0.0008\n1.0\n0.674074074074\n0.866666666667\n0.0009\n"
     ]
    },
    {
     "name": "stdout",
     "output_type": "stream",
     "text": [
      "1.0\n0.577777777778\n0.8\n0.0\n1.0\n0.666666666667\n0.903703703704\n0.0001\n"
     ]
    },
    {
     "name": "stdout",
     "output_type": "stream",
     "text": [
      "1.0\n0.614814814815\n0.933333333333\n0.0002\n1.0\n0.681481481481\n0.881481481481\n0.0003\n"
     ]
    },
    {
     "name": "stdout",
     "output_type": "stream",
     "text": [
      "1.0\n0.62962962963\n0.859259259259\n0.0004\n1.0\n0.659259259259\n0.874074074074\n0.0005\n"
     ]
    },
    {
     "name": "stdout",
     "output_type": "stream",
     "text": [
      "1.0\n0.622222222222\n0.896296296296\n0.0006\n1.0\n0.681481481481\n0.837037037037\n0.0007\n"
     ]
    },
    {
     "name": "stdout",
     "output_type": "stream",
     "text": [
      "1.0\n0.681481481481\n0.955555555556\n0.0008\n1.0\n0.614814814815\n0.866666666667\n0.0009\n"
     ]
    },
    {
     "name": "stdout",
     "output_type": "stream",
     "text": [
      "1.0\n0.681481481481\n0.903703703704\n0.0\n1.0\n0.659259259259\n0.881481481481\n0.0001\n"
     ]
    },
    {
     "name": "stdout",
     "output_type": "stream",
     "text": [
      "1.0\n0.622222222222\n0.874074074074\n0.0002\n1.0\n0.681481481481\n0.888888888889\n0.0003\n"
     ]
    },
    {
     "name": "stdout",
     "output_type": "stream",
     "text": [
      "1.0\n0.637037037037\n0.881481481481\n0.0004\n1.0\n0.607407407407\n0.948148148148\n0.0005\n"
     ]
    },
    {
     "name": "stdout",
     "output_type": "stream",
     "text": [
      "1.0\n0.651851851852\n0.896296296296\n0.0006\n1.0\n0.62962962963\n0.844444444444\n0.0007\n"
     ]
    },
    {
     "name": "stdout",
     "output_type": "stream",
     "text": [
      "1.0\n0.622222222222\n0.844444444444\n0.0008\n1.0\n0.659259259259\n0.918518518519\n0.0009\n"
     ]
    },
    {
     "name": "stdout",
     "output_type": "stream",
     "text": [
      "1.0\n0.62962962963\n0.888888888889\n0.0\n1.0\n0.57037037037\n0.940740740741\n0.0001\n"
     ]
    },
    {
     "name": "stdout",
     "output_type": "stream",
     "text": [
      "1.0\n0.681481481481\n0.925925925926\n0.0002\n1.0\n0.703703703704\n0.866666666667\n0.0003\n"
     ]
    },
    {
     "name": "stdout",
     "output_type": "stream",
     "text": [
      "1.0\n0.666666666667\n0.933333333333\n0.0004\n1.0\n0.674074074074\n0.859259259259\n0.0005\n"
     ]
    },
    {
     "name": "stdout",
     "output_type": "stream",
     "text": [
      "1.0\n0.637037037037\n0.903703703704\n0.0006\n1.0\n0.577777777778\n0.903703703704\n0.0007\n"
     ]
    },
    {
     "name": "stdout",
     "output_type": "stream",
     "text": [
      "1.0\n0.688888888889\n0.888888888889\n0.0008\n1.0\n0.644444444444\n0.866666666667\n0.0009\n"
     ]
    },
    {
     "name": "stdout",
     "output_type": "stream",
     "text": [
      "1.0\n0.637037037037\n0.918518518519\n0.0\n1.0\n0.659259259259\n0.911111111111\n0.0001\n"
     ]
    },
    {
     "name": "stdout",
     "output_type": "stream",
     "text": [
      "1.0\n0.651851851852\n0.933333333333\n0.0002\n1.0\n0.62962962963\n0.866666666667\n0.0003\n"
     ]
    },
    {
     "name": "stdout",
     "output_type": "stream",
     "text": [
      "1.0\n0.62962962963\n0.777777777778\n0.0004\n1.0\n0.614814814815\n0.925925925926\n0.0005\n"
     ]
    },
    {
     "name": "stdout",
     "output_type": "stream",
     "text": [
      "1.0\n0.651851851852\n0.844444444444\n0.0006\n1.0\n0.592592592593\n0.866666666667\n0.0007\n"
     ]
    },
    {
     "name": "stdout",
     "output_type": "stream",
     "text": [
      "1.0\n0.674074074074\n0.888888888889\n0.0008\n1.0\n0.666666666667\n0.925925925926\n0.0009\n"
     ]
    },
    {
     "name": "stdout",
     "output_type": "stream",
     "text": [
      "1.0\n0.651851851852\n0.911111111111\n0.0\n1.0\n0.674074074074\n0.881481481481\n0.0001\n"
     ]
    },
    {
     "name": "stdout",
     "output_type": "stream",
     "text": [
      "1.0\n0.592592592593\n0.911111111111\n0.0002\n1.0\n0.674074074074\n0.948148148148\n0.0003\n"
     ]
    },
    {
     "name": "stdout",
     "output_type": "stream",
     "text": [
      "1.0\n0.592592592593\n0.881481481481\n0.0004\n1.0\n0.681481481481\n0.911111111111\n0.0005\n"
     ]
    },
    {
     "name": "stdout",
     "output_type": "stream",
     "text": [
      "1.0\n0.614814814815\n0.851851851852\n0.0006\n1.0\n0.681481481481\n0.896296296296\n0.0007\n"
     ]
    },
    {
     "name": "stdout",
     "output_type": "stream",
     "text": [
      "1.0\n0.666666666667\n0.851851851852\n0.0008\n1.0\n0.674074074074\n0.925925925926\n0.0009\n"
     ]
    },
    {
     "name": "stdout",
     "output_type": "stream",
     "text": [
      "1.0\n0.666666666667\n0.896296296296\n0.0\n1.0\n0.674074074074\n0.933333333333\n0.0001\n"
     ]
    },
    {
     "name": "stdout",
     "output_type": "stream",
     "text": [
      "1.0\n0.637037037037\n0.918518518519\n0.0002\n1.0\n0.644444444444\n0.903703703704\n0.0003\n"
     ]
    },
    {
     "name": "stdout",
     "output_type": "stream",
     "text": [
      "1.0\n0.681481481481\n0.881481481481\n0.0004\n1.0\n0.666666666667\n0.844444444444\n0.0005\n"
     ]
    },
    {
     "name": "stdout",
     "output_type": "stream",
     "text": [
      "1.0\n0.62962962963\n0.955555555556\n0.0006\n1.0\n0.666666666667\n0.844444444444\n0.0007\n"
     ]
    },
    {
     "name": "stdout",
     "output_type": "stream",
     "text": [
      "1.0\n0.659259259259\n0.874074074074\n0.0008\n1.0\n0.614814814815\n0.903703703704\n0.0009\n"
     ]
    },
    {
     "name": "stdout",
     "output_type": "stream",
     "text": [
      "1.0\n0.651851851852\n0.822222222222\n0.0\n1.0\n0.688888888889\n0.859259259259\n0.0001\n"
     ]
    },
    {
     "name": "stdout",
     "output_type": "stream",
     "text": [
      "1.0\n0.614814814815\n0.77037037037\n0.0002\n1.0\n0.614814814815\n0.822222222222\n0.0003\n"
     ]
    },
    {
     "name": "stdout",
     "output_type": "stream",
     "text": [
      "1.0\n0.622222222222\n0.888888888889\n0.0004\n1.0\n0.644444444444\n0.881481481481\n0.0005\n"
     ]
    },
    {
     "name": "stdout",
     "output_type": "stream",
     "text": [
      "1.0\n0.674074074074\n0.903703703704\n0.0006\n1.0\n0.644444444444\n0.807407407407\n0.0007\n"
     ]
    },
    {
     "name": "stdout",
     "output_type": "stream",
     "text": [
      "1.0\n0.681481481481\n0.837037037037\n0.0008\n1.0\n0.681481481481\n0.933333333333\n0.0009\n"
     ]
    },
    {
     "name": "stdout",
     "output_type": "stream",
     "text": [
      "1.0\n0.681481481481\n0.955555555556\n0.0\n1.0\n0.592592592593\n0.837037037037\n0.0001\n"
     ]
    },
    {
     "name": "stdout",
     "output_type": "stream",
     "text": [
      "1.0\n0.614814814815\n0.903703703704\n0.0002\n1.0\n0.622222222222\n0.874074074074\n0.0003\n"
     ]
    },
    {
     "name": "stdout",
     "output_type": "stream",
     "text": [
      "1.0\n0.644444444444\n0.918518518519\n0.0004\n1.0\n0.659259259259\n0.940740740741\n0.0005\n"
     ]
    },
    {
     "name": "stdout",
     "output_type": "stream",
     "text": [
      "1.0\n0.644444444444\n0.918518518519\n0.0006\n1.0\n0.659259259259\n0.859259259259\n0.0007\n"
     ]
    },
    {
     "name": "stdout",
     "output_type": "stream",
     "text": [
      "1.0\n0.592592592593\n0.903703703704\n0.0008\n1.0\n0.681481481481\n0.82962962963\n0.0009\n"
     ]
    },
    {
     "name": "stdout",
     "output_type": "stream",
     "text": [
      "1.0\n0.659259259259\n0.911111111111\n0.0\n1.0\n0.688888888889\n0.911111111111\n0.0001\n"
     ]
    },
    {
     "name": "stdout",
     "output_type": "stream",
     "text": [
      "1.0\n0.681481481481\n0.792592592593\n0.0002\n1.0\n0.644444444444\n0.881481481481\n0.0003\n"
     ]
    },
    {
     "name": "stdout",
     "output_type": "stream",
     "text": [
      "1.0\n0.62962962963\n0.874074074074\n0.0004\n1.0\n0.659259259259\n0.874074074074\n0.0005\n"
     ]
    },
    {
     "name": "stdout",
     "output_type": "stream",
     "text": [
      "1.0\n0.681481481481\n0.844444444444\n0.0006\n1.0\n0.651851851852\n0.903703703704\n0.0007\n"
     ]
    },
    {
     "name": "stdout",
     "output_type": "stream",
     "text": [
      "1.0\n0.644444444444\n0.940740740741\n0.0008\n1.0\n0.62962962963\n0.859259259259\n0.0009\n"
     ]
    },
    {
     "name": "stdout",
     "output_type": "stream",
     "text": [
      "1.0\n0.659259259259\n0.881481481481\n0.0\n1.0\n0.614814814815\n0.851851851852\n0.0001\n"
     ]
    },
    {
     "name": "stdout",
     "output_type": "stream",
     "text": [
      "1.0\n0.592592592593\n0.911111111111\n0.0002\n1.0\n0.6\n0.814814814815\n0.0003\n"
     ]
    },
    {
     "name": "stdout",
     "output_type": "stream",
     "text": [
      "1.0\n0.607407407407\n0.8\n0.0004\n1.0\n0.681481481481\n0.844444444444\n0.0005\n"
     ]
    },
    {
     "name": "stdout",
     "output_type": "stream",
     "text": [
      "1.0\n0.644444444444\n0.837037037037\n0.0006\n1.0\n0.681481481481\n0.918518518519\n0.0007\n"
     ]
    },
    {
     "name": "stdout",
     "output_type": "stream",
     "text": [
      "1.0\n0.644444444444\n0.933333333333\n0.0008\n1.0\n0.659259259259\n0.866666666667\n0.0009\n"
     ]
    },
    {
     "name": "stdout",
     "output_type": "stream",
     "text": [
      "1.0\n0.644444444444\n0.866666666667\n0.0\n1.0\n0.651851851852\n0.881481481481\n0.0001\n"
     ]
    },
    {
     "name": "stdout",
     "output_type": "stream",
     "text": [
      "1.0\n0.637037037037\n0.837037037037\n0.0002\n1.0\n0.674074074074\n0.881481481481\n0.0003\n"
     ]
    },
    {
     "name": "stdout",
     "output_type": "stream",
     "text": [
      "1.0\n0.6\n0.925925925926\n0.0004\n1.0\n0.674074074074\n0.82962962963\n0.0005\n"
     ]
    },
    {
     "name": "stdout",
     "output_type": "stream",
     "text": [
      "1.0\n0.651851851852\n0.874074074074\n0.0006\n1.0\n0.651851851852\n0.940740740741\n0.0007\n"
     ]
    },
    {
     "name": "stdout",
     "output_type": "stream",
     "text": [
      "1.0\n0.666666666667\n0.859259259259\n0.0008\n1.0\n0.666666666667\n0.896296296296\n0.0009\n"
     ]
    },
    {
     "name": "stdout",
     "output_type": "stream",
     "text": [
      "1.0\n0.681481481481\n0.881481481481\n0.0\n1.0\n0.637037037037\n0.918518518519\n0.0001\n"
     ]
    },
    {
     "name": "stdout",
     "output_type": "stream",
     "text": [
      "1.0\n0.62962962963\n0.888888888889\n0.0002\n1.0\n0.666666666667\n0.851851851852\n0.0003\n"
     ]
    },
    {
     "name": "stdout",
     "output_type": "stream",
     "text": [
      "1.0\n0.644444444444\n0.888888888889\n0.0004\n1.0\n0.659259259259\n0.903703703704\n0.0005\n"
     ]
    },
    {
     "name": "stdout",
     "output_type": "stream",
     "text": [
      "1.0\n0.674074074074\n0.888888888889\n0.0006\n1.0\n0.614814814815\n0.948148148148\n0.0007\n"
     ]
    },
    {
     "name": "stdout",
     "output_type": "stream",
     "text": [
      "1.0\n0.674074074074\n0.881481481481\n0.0008\n1.0\n0.637037037037\n0.948148148148\n0.0009\n"
     ]
    },
    {
     "name": "stdout",
     "output_type": "stream",
     "text": [
      "1.0\n0.659259259259\n0.851851851852\n0.0\n1.0\n0.540740740741\n0.896296296296\n0.0001\n"
     ]
    },
    {
     "name": "stdout",
     "output_type": "stream",
     "text": [
      "1.0\n0.622222222222\n0.933333333333\n0.0002\n1.0\n0.644444444444\n0.903703703704\n0.0003\n"
     ]
    },
    {
     "name": "stdout",
     "output_type": "stream",
     "text": [
      "1.0\n0.681481481481\n0.851851851852\n0.0004\n1.0\n0.622222222222\n0.955555555556\n0.0005\n"
     ]
    },
    {
     "name": "stdout",
     "output_type": "stream",
     "text": [
      "1.0\n0.651851851852\n0.866666666667\n0.0006\n1.0\n0.666666666667\n0.866666666667\n0.0007\n"
     ]
    },
    {
     "name": "stdout",
     "output_type": "stream",
     "text": [
      "1.0\n0.666666666667\n0.881481481481\n0.0008\n1.0\n0.681481481481\n0.940740740741\n0.0009\n"
     ]
    },
    {
     "name": "stdout",
     "output_type": "stream",
     "text": [
      "1.0\n0.681481481481\n0.822222222222\n0.0\n1.0\n0.688888888889\n0.911111111111\n0.0001\n"
     ]
    },
    {
     "name": "stdout",
     "output_type": "stream",
     "text": [
      "1.0\n0.651851851852\n0.874074074074\n0.0002\n1.0\n0.688888888889\n0.911111111111\n0.0003\n"
     ]
    },
    {
     "name": "stdout",
     "output_type": "stream",
     "text": [
      "1.0\n0.62962962963\n0.851851851852\n0.0004\n1.0\n0.585185185185\n0.911111111111\n0.0005\n"
     ]
    },
    {
     "name": "stdout",
     "output_type": "stream",
     "text": [
      "1.0\n0.644444444444\n0.82962962963\n0.0006\n1.0\n0.637037037037\n0.851851851852\n0.0007\n"
     ]
    },
    {
     "name": "stdout",
     "output_type": "stream",
     "text": [
      "1.0\n0.659259259259\n0.933333333333\n0.0008\n1.0\n0.622222222222\n0.822222222222\n0.0009\n"
     ]
    },
    {
     "name": "stdout",
     "output_type": "stream",
     "text": [
      "1.0\n0.688888888889\n0.851851851852\n0.0\n1.0\n0.681481481481\n0.918518518519\n0.0001\n"
     ]
    },
    {
     "name": "stdout",
     "output_type": "stream",
     "text": [
      "1.0\n0.644444444444\n0.918518518519\n0.0002\n1.0\n0.651851851852\n0.851851851852\n0.0003\n"
     ]
    },
    {
     "name": "stdout",
     "output_type": "stream",
     "text": [
      "1.0\n0.674074074074\n0.925925925926\n0.0004\n1.0\n0.644444444444\n0.874074074074\n0.0005\n"
     ]
    },
    {
     "name": "stdout",
     "output_type": "stream",
     "text": [
      "1.0\n0.644444444444\n0.888888888889\n0.0006\n1.0\n0.62962962963\n0.844444444444\n0.0007\n"
     ]
    },
    {
     "name": "stdout",
     "output_type": "stream",
     "text": [
      "1.0\n0.681481481481\n0.896296296296\n0.0008\n1.0\n0.622222222222\n0.874074074074\n0.0009\n"
     ]
    },
    {
     "name": "stdout",
     "output_type": "stream",
     "text": [
      "1.0\n0.6\n0.903703703704\n0.0\n1.0\n0.666666666667\n0.874074074074\n0.0001\n"
     ]
    },
    {
     "name": "stdout",
     "output_type": "stream",
     "text": [
      "1.0\n0.681481481481\n0.807407407407\n0.0002\n1.0\n0.681481481481\n0.859259259259\n0.0003\n"
     ]
    },
    {
     "name": "stdout",
     "output_type": "stream",
     "text": [
      "1.0\n0.674074074074\n0.925925925926\n0.0004\n1.0\n0.666666666667\n0.903703703704\n0.0005\n"
     ]
    },
    {
     "name": "stdout",
     "output_type": "stream",
     "text": [
      "1.0\n0.674074074074\n0.903703703704\n0.0006\n1.0\n0.62962962963\n0.881481481481\n0.0007\n"
     ]
    },
    {
     "name": "stdout",
     "output_type": "stream",
     "text": [
      "1.0\n0.651851851852\n0.918518518519\n0.0008\n1.0\n0.637037037037\n0.888888888889\n0.0009\n"
     ]
    },
    {
     "name": "stdout",
     "output_type": "stream",
     "text": [
      "1.0\n0.681481481481\n0.888888888889\n0.0\n1.0\n0.585185185185\n0.814814814815\n0.0001\n"
     ]
    },
    {
     "name": "stdout",
     "output_type": "stream",
     "text": [
      "1.0\n0.614814814815\n0.851851851852\n0.0002\n1.0\n0.666666666667\n0.82962962963\n0.0003\n"
     ]
    },
    {
     "name": "stdout",
     "output_type": "stream",
     "text": [
      "1.0\n0.659259259259\n0.888888888889\n0.0004\n1.0\n0.666666666667\n0.896296296296\n0.0005\n"
     ]
    },
    {
     "name": "stdout",
     "output_type": "stream",
     "text": [
      "1.0\n0.637037037037\n0.785185185185\n0.0006\n1.0\n0.585185185185\n0.814814814815\n0.0007\n"
     ]
    },
    {
     "name": "stdout",
     "output_type": "stream",
     "text": [
      "1.0\n0.622222222222\n0.851851851852\n0.0008\n1.0\n0.651851851852\n0.933333333333\n0.0009\n"
     ]
    },
    {
     "name": "stdout",
     "output_type": "stream",
     "text": [
      "1.0\n0.651851851852\n0.933333333333\n0.0\n1.0\n0.674074074074\n0.918518518519\n0.0001\n"
     ]
    },
    {
     "name": "stdout",
     "output_type": "stream",
     "text": [
      "1.0\n0.651851851852\n0.896296296296\n0.0002\n1.0\n0.688888888889\n0.807407407407\n0.0003\n"
     ]
    },
    {
     "name": "stdout",
     "output_type": "stream",
     "text": [
      "1.0\n0.651851851852\n0.851851851852\n0.0004\n1.0\n0.622222222222\n0.940740740741\n0.0005\n"
     ]
    },
    {
     "name": "stdout",
     "output_type": "stream",
     "text": [
      "1.0\n0.62962962963\n0.866666666667\n0.0006\n1.0\n0.681481481481\n0.82962962963\n0.0007\n"
     ]
    },
    {
     "name": "stdout",
     "output_type": "stream",
     "text": [
      "1.0\n0.681481481481\n0.903703703704\n0.0008\n1.0\n0.666666666667\n0.881481481481\n0.0009\n"
     ]
    },
    {
     "name": "stdout",
     "output_type": "stream",
     "text": [
      "1.0\n0.674074074074\n0.82962962963\n0.0\n1.0\n0.711111111111\n0.903703703704\n0.0001\n"
     ]
    },
    {
     "name": "stdout",
     "output_type": "stream",
     "text": [
      "1.0\n0.681481481481\n0.888888888889\n0.0002\n1.0\n0.651851851852\n0.888888888889\n0.0003\n"
     ]
    },
    {
     "name": "stdout",
     "output_type": "stream",
     "text": [
      "1.0\n0.651851851852\n0.859259259259\n0.0004\n1.0\n0.62962962963\n0.918518518519\n0.0005\n"
     ]
    },
    {
     "name": "stdout",
     "output_type": "stream",
     "text": [
      "1.0\n0.6\n0.777777777778\n0.0006\n1.0\n0.659259259259\n0.940740740741\n0.0007\n"
     ]
    },
    {
     "name": "stdout",
     "output_type": "stream",
     "text": [
      "1.0\n0.651851851852\n0.903703703704\n0.0008\n1.0\n0.62962962963\n0.903703703704\n0.0009\n"
     ]
    },
    {
     "name": "stdout",
     "output_type": "stream",
     "text": [
      "1.0\n0.614814814815\n0.903703703704\n0.0\n1.0\n0.592592592593\n0.866666666667\n0.0001\n"
     ]
    },
    {
     "name": "stdout",
     "output_type": "stream",
     "text": [
      "1.0\n0.674074074074\n0.851851851852\n0.0002\n1.0\n0.607407407407\n0.844444444444\n0.0003\n"
     ]
    },
    {
     "name": "stdout",
     "output_type": "stream",
     "text": [
      "1.0\n0.614814814815\n0.881481481481\n0.0004\n1.0\n0.688888888889\n0.896296296296\n0.0005\n"
     ]
    },
    {
     "name": "stdout",
     "output_type": "stream",
     "text": [
      "1.0\n0.622222222222\n0.896296296296\n0.0006\n1.0\n0.62962962963\n0.888888888889\n0.0007\n"
     ]
    },
    {
     "name": "stdout",
     "output_type": "stream",
     "text": [
      "1.0\n0.674074074074\n0.911111111111\n0.0008\n1.0\n0.644444444444\n0.866666666667\n0.0009\n"
     ]
    },
    {
     "name": "stdout",
     "output_type": "stream",
     "text": [
      "1.0\n0.614814814815\n0.837037037037\n0.0\n1.0\n0.62962962963\n0.844444444444\n0.0001\n"
     ]
    },
    {
     "name": "stdout",
     "output_type": "stream",
     "text": [
      "1.0\n0.637037037037\n0.911111111111\n0.0002\n1.0\n0.637037037037\n0.896296296296\n0.0003\n"
     ]
    },
    {
     "name": "stdout",
     "output_type": "stream",
     "text": [
      "1.0\n0.607407407407\n0.933333333333\n0.0004\n1.0\n0.6\n0.940740740741\n0.0005\n"
     ]
    },
    {
     "name": "stdout",
     "output_type": "stream",
     "text": [
      "1.0\n0.607407407407\n0.925925925926\n0.0006\n1.0\n0.644444444444\n0.822222222222\n0.0007\n"
     ]
    },
    {
     "name": "stdout",
     "output_type": "stream",
     "text": [
      "1.0\n0.644444444444\n0.918518518519\n0.0008\n1.0\n0.674074074074\n0.918518518519\n0.0009\n"
     ]
    },
    {
     "name": "stdout",
     "output_type": "stream",
     "text": [
      "1.0\n0.674074074074\n0.911111111111\n0.0\n1.0\n0.674074074074\n0.962962962963\n0.0001\n"
     ]
    },
    {
     "name": "stdout",
     "output_type": "stream",
     "text": [
      "1.0\n0.614814814815\n0.903703703704\n0.0002\n1.0\n0.562962962963\n0.888888888889\n0.0003\n"
     ]
    },
    {
     "name": "stdout",
     "output_type": "stream",
     "text": [
      "1.0\n0.622222222222\n0.866666666667\n0.0004\n1.0\n0.637037037037\n0.888888888889\n0.0005\n"
     ]
    },
    {
     "name": "stdout",
     "output_type": "stream",
     "text": [
      "1.0\n0.607407407407\n0.851851851852\n0.0006\n1.0\n0.681481481481\n0.896296296296\n0.0007\n"
     ]
    },
    {
     "name": "stdout",
     "output_type": "stream",
     "text": [
      "1.0\n0.607407407407\n0.925925925926\n0.0008\n1.0\n0.637037037037\n0.859259259259\n0.0009\n"
     ]
    },
    {
     "name": "stdout",
     "output_type": "stream",
     "text": [
      "1.0\n0.666666666667\n0.866666666667\n0.0\n1.0\n0.62962962963\n0.881481481481\n0.0001\n"
     ]
    },
    {
     "name": "stdout",
     "output_type": "stream",
     "text": [
      "1.0\n0.62962962963\n0.82962962963\n0.0002\n1.0\n0.592592592593\n0.940740740741\n0.0003\n"
     ]
    },
    {
     "name": "stdout",
     "output_type": "stream",
     "text": [
      "1.0\n0.666666666667\n0.940740740741\n0.0004\n1.0\n0.681481481481\n0.859259259259\n0.0005\n"
     ]
    },
    {
     "name": "stdout",
     "output_type": "stream",
     "text": [
      "1.0\n0.62962962963\n0.911111111111\n0.0006\n1.0\n0.622222222222\n0.896296296296\n0.0007\n"
     ]
    },
    {
     "name": "stdout",
     "output_type": "stream",
     "text": [
      "1.0\n0.651851851852\n0.859259259259\n0.0008\n1.0\n0.666666666667\n0.925925925926\n0.0009\n"
     ]
    },
    {
     "name": "stdout",
     "output_type": "stream",
     "text": [
      "1.0\n0.592592592593\n0.8\n0.0\n1.0\n0.644444444444\n0.911111111111\n0.0001\n"
     ]
    },
    {
     "name": "stdout",
     "output_type": "stream",
     "text": [
      "1.0\n0.688888888889\n0.918518518519\n0.0002\n1.0\n0.659259259259\n0.888888888889\n0.0003\n"
     ]
    },
    {
     "name": "stdout",
     "output_type": "stream",
     "text": [
      "1.0\n0.637037037037\n0.851851851852\n0.0004\n1.0\n0.674074074074\n0.866666666667\n0.0005\n"
     ]
    },
    {
     "name": "stdout",
     "output_type": "stream",
     "text": [
      "1.0\n0.644444444444\n0.918518518519\n0.0006\n1.0\n0.644444444444\n0.859259259259\n0.0007\n"
     ]
    },
    {
     "name": "stdout",
     "output_type": "stream",
     "text": [
      "1.0\n0.62962962963\n0.888888888889\n0.0008\n1.0\n0.540740740741\n0.874074074074\n0.0009\n"
     ]
    },
    {
     "name": "stdout",
     "output_type": "stream",
     "text": [
      "1.0\n0.614814814815\n0.896296296296\n0.0\n1.0\n0.62962962963\n0.859259259259\n0.0001\n"
     ]
    },
    {
     "name": "stdout",
     "output_type": "stream",
     "text": [
      "1.0\n0.622222222222\n0.881481481481\n0.0002\n1.0\n0.681481481481\n0.903703703704\n0.0003\n"
     ]
    },
    {
     "name": "stdout",
     "output_type": "stream",
     "text": [
      "1.0\n0.637037037037\n0.933333333333\n0.0004\n1.0\n0.666666666667\n0.911111111111\n0.0005\n"
     ]
    },
    {
     "name": "stdout",
     "output_type": "stream",
     "text": [
      "1.0\n0.659259259259\n0.851851851852\n0.0006\n1.0\n0.659259259259\n0.933333333333\n0.0007\n"
     ]
    },
    {
     "name": "stdout",
     "output_type": "stream",
     "text": [
      "1.0\n0.703703703704\n0.903703703704\n0.0008\n1.0\n0.674074074074\n0.933333333333\n0.0009\n"
     ]
    },
    {
     "name": "stdout",
     "output_type": "stream",
     "text": [
      "1.0\n0.681481481481\n0.903703703704\n0.0\n1.0\n0.62962962963\n0.925925925926\n0.0001\n"
     ]
    },
    {
     "name": "stdout",
     "output_type": "stream",
     "text": [
      "1.0\n0.62962962963\n0.881481481481\n0.0002\n1.0\n0.666666666667\n0.896296296296\n0.0003\n"
     ]
    },
    {
     "name": "stdout",
     "output_type": "stream",
     "text": [
      "1.0\n0.592592592593\n0.874074074074\n0.0004\n1.0\n0.637037037037\n0.918518518519\n0.0005\n"
     ]
    },
    {
     "name": "stdout",
     "output_type": "stream",
     "text": [
      "1.0\n0.666666666667\n0.888888888889\n0.0006\n1.0\n0.651851851852\n0.940740740741\n0.0007\n"
     ]
    },
    {
     "name": "stdout",
     "output_type": "stream",
     "text": [
      "1.0\n0.607407407407\n0.792592592593\n0.0008\n1.0\n0.644444444444\n0.888888888889\n0.0009\n"
     ]
    },
    {
     "name": "stdout",
     "output_type": "stream",
     "text": [
      "1.0\n0.651851851852\n0.851851851852\n0.0\n1.0\n0.585185185185\n0.844444444444\n0.0001\n"
     ]
    },
    {
     "name": "stdout",
     "output_type": "stream",
     "text": [
      "1.0\n0.666666666667\n0.888888888889\n0.0002\n1.0\n0.681481481481\n0.82962962963\n0.0003\n"
     ]
    },
    {
     "name": "stdout",
     "output_type": "stream",
     "text": [
      "1.0\n0.651851851852\n0.903703703704\n0.0004\n1.0\n0.659259259259\n0.837037037037\n0.0005\n"
     ]
    },
    {
     "name": "stdout",
     "output_type": "stream",
     "text": [
      "1.0\n0.637037037037\n0.888888888889\n0.0006\n1.0\n0.659259259259\n0.933333333333\n0.0007\n"
     ]
    },
    {
     "name": "stdout",
     "output_type": "stream",
     "text": [
      "1.0\n0.651851851852\n0.859259259259\n0.0008\n1.0\n0.6\n0.8\n0.0009\n"
     ]
    },
    {
     "name": "stdout",
     "output_type": "stream",
     "text": [
      "1.0\n0.674074074074\n0.903703703704\n0.0\n1.0\n0.674074074074\n0.888888888889\n0.0001\n"
     ]
    },
    {
     "name": "stdout",
     "output_type": "stream",
     "text": [
      "1.0\n0.651851851852\n0.881481481481\n0.0002\n1.0\n0.696296296296\n0.940740740741\n0.0003\n"
     ]
    },
    {
     "name": "stdout",
     "output_type": "stream",
     "text": [
      "1.0\n0.674074074074\n0.903703703704\n0.0004\n1.0\n0.681481481481\n0.874074074074\n0.0005\n"
     ]
    },
    {
     "name": "stdout",
     "output_type": "stream",
     "text": [
      "1.0\n0.622222222222\n0.866666666667\n0.0006\n1.0\n0.681481481481\n0.866666666667\n0.0007\n"
     ]
    },
    {
     "name": "stdout",
     "output_type": "stream",
     "text": [
      "1.0\n0.644444444444\n0.925925925926\n0.0008\n1.0\n0.651851851852\n0.8\n0.0009\n"
     ]
    },
    {
     "name": "stdout",
     "output_type": "stream",
     "text": [
      "1.0\n0.666666666667\n0.896296296296\n0.0\n1.0\n0.622222222222\n0.844444444444\n0.0001\n"
     ]
    },
    {
     "name": "stdout",
     "output_type": "stream",
     "text": [
      "1.0\n0.607407407407\n0.925925925926\n0.0002\n1.0\n0.666666666667\n0.859259259259\n0.0003\n"
     ]
    },
    {
     "name": "stdout",
     "output_type": "stream",
     "text": [
      "1.0\n0.651851851852\n0.940740740741\n0.0004\n1.0\n0.674074074074\n0.82962962963\n0.0005\n"
     ]
    },
    {
     "name": "stdout",
     "output_type": "stream",
     "text": [
      "1.0\n0.688888888889\n0.925925925926\n0.0006\n1.0\n0.651851851852\n0.903703703704\n0.0007\n"
     ]
    },
    {
     "name": "stdout",
     "output_type": "stream",
     "text": [
      "1.0\n0.651851851852\n0.859259259259\n0.0008\n1.0\n0.681481481481\n0.762962962963\n0.0009\n"
     ]
    },
    {
     "name": "stdout",
     "output_type": "stream",
     "text": [
      "1.0\n0.644444444444\n0.881481481481\n0.0\n1.0\n0.637037037037\n0.888888888889\n0.0001\n"
     ]
    },
    {
     "name": "stdout",
     "output_type": "stream",
     "text": [
      "1.0\n0.62962962963\n0.962962962963\n0.0002\n1.0\n0.666666666667\n0.82962962963\n0.0003\n"
     ]
    },
    {
     "name": "stdout",
     "output_type": "stream",
     "text": [
      "1.0\n0.6\n0.896296296296\n0.0004\n1.0\n0.6\n0.859259259259\n0.0005\n"
     ]
    },
    {
     "name": "stdout",
     "output_type": "stream",
     "text": [
      "1.0\n0.607407407407\n0.874074074074\n0.0006\n1.0\n0.644444444444\n0.844444444444\n0.0007\n"
     ]
    },
    {
     "name": "stdout",
     "output_type": "stream",
     "text": [
      "1.0\n0.637037037037\n0.940740740741\n0.0008\n1.0\n0.688888888889\n0.844444444444\n0.0009\n"
     ]
    },
    {
     "name": "stdout",
     "output_type": "stream",
     "text": [
      "1.0\n0.651851851852\n0.844444444444\n0.0\n1.0\n0.674074074074\n0.888888888889\n0.0001\n"
     ]
    },
    {
     "name": "stdout",
     "output_type": "stream",
     "text": [
      "1.0\n0.674074074074\n0.925925925926\n0.0002\n1.0\n0.674074074074\n0.703703703704\n0.0003\n"
     ]
    },
    {
     "name": "stdout",
     "output_type": "stream",
     "text": [
      "1.0\n0.614814814815\n0.903703703704\n0.0004\n1.0\n0.614814814815\n0.881481481481\n0.0005\n"
     ]
    },
    {
     "name": "stdout",
     "output_type": "stream",
     "text": [
      "1.0\n0.651851851852\n0.933333333333\n0.0006\n1.0\n0.674074074074\n0.866666666667\n0.0007\n"
     ]
    },
    {
     "name": "stdout",
     "output_type": "stream",
     "text": [
      "1.0\n0.622222222222\n0.851851851852\n0.0008\n1.0\n0.614814814815\n0.844444444444\n0.0009\n"
     ]
    },
    {
     "name": "stdout",
     "output_type": "stream",
     "text": [
      "1.0\n0.6\n0.844444444444\n0.0\n1.0\n0.644444444444\n0.925925925926\n0.0001\n"
     ]
    },
    {
     "name": "stdout",
     "output_type": "stream",
     "text": [
      "1.0\n0.614814814815\n0.785185185185\n0.0002\n1.0\n0.688888888889\n0.866666666667\n0.0003\n"
     ]
    },
    {
     "name": "stdout",
     "output_type": "stream",
     "text": [
      "1.0\n0.659259259259\n0.874074074074\n0.0004\n1.0\n0.688888888889\n0.888888888889\n0.0005\n"
     ]
    },
    {
     "name": "stdout",
     "output_type": "stream",
     "text": [
      "1.0\n0.681481481481\n0.866666666667\n0.0006\n1.0\n0.62962962963\n0.918518518519\n0.0007\n"
     ]
    },
    {
     "name": "stdout",
     "output_type": "stream",
     "text": [
      "1.0\n0.681481481481\n0.837037037037\n0.0008\n1.0\n0.637037037037\n0.837037037037\n0.0009\n"
     ]
    },
    {
     "name": "stdout",
     "output_type": "stream",
     "text": [
      "1.0\n0.577777777778\n0.874074074074\n0.0\n1.0\n0.688888888889\n0.888888888889\n0.0001\n"
     ]
    },
    {
     "name": "stdout",
     "output_type": "stream",
     "text": [
      "1.0\n0.62962962963\n0.903703703704\n0.0002\n1.0\n0.659259259259\n0.874074074074\n0.0003\n"
     ]
    },
    {
     "name": "stdout",
     "output_type": "stream",
     "text": [
      "1.0\n0.637037037037\n0.911111111111\n0.0004\n1.0\n0.666666666667\n0.851851851852\n0.0005\n"
     ]
    },
    {
     "name": "stdout",
     "output_type": "stream",
     "text": [
      "1.0\n0.703703703704\n0.807407407407\n0.0006\n1.0\n0.562962962963\n0.859259259259\n0.0007\n"
     ]
    },
    {
     "name": "stdout",
     "output_type": "stream",
     "text": [
      "1.0\n0.585185185185\n0.814814814815\n0.0008\n1.0\n0.674074074074\n0.911111111111\n0.0009\n"
     ]
    },
    {
     "name": "stdout",
     "output_type": "stream",
     "text": [
      "1.0\n0.637037037037\n0.82962962963\n0.0\n1.0\n0.577777777778\n0.859259259259\n0.0001\n"
     ]
    },
    {
     "name": "stdout",
     "output_type": "stream",
     "text": [
      "1.0\n0.681481481481\n0.955555555556\n0.0002\n1.0\n0.659259259259\n0.881481481481\n0.0003\n"
     ]
    },
    {
     "name": "stdout",
     "output_type": "stream",
     "text": [
      "1.0\n0.674074074074\n0.933333333333\n0.0004\n1.0\n0.614814814815\n0.918518518519\n0.0005\n"
     ]
    },
    {
     "name": "stdout",
     "output_type": "stream",
     "text": [
      "1.0\n0.6\n0.925925925926\n0.0006\n1.0\n0.681481481481\n0.844444444444\n0.0007\n"
     ]
    },
    {
     "name": "stdout",
     "output_type": "stream",
     "text": [
      "1.0\n0.644444444444\n0.866666666667\n0.0008\n1.0\n0.651851851852\n0.866666666667\n0.0009\n"
     ]
    },
    {
     "name": "stdout",
     "output_type": "stream",
     "text": [
      "1.0\n0.666666666667\n0.792592592593\n0.0\n1.0\n0.577777777778\n0.807407407407\n0.0001\n"
     ]
    },
    {
     "name": "stdout",
     "output_type": "stream",
     "text": [
      "1.0\n0.659259259259\n0.911111111111\n0.0002\n1.0\n0.6\n0.888888888889\n0.0003\n"
     ]
    },
    {
     "name": "stdout",
     "output_type": "stream",
     "text": [
      "1.0\n0.674074074074\n0.903703703704\n0.0004\n1.0\n0.651851851852\n0.82962962963\n0.0005\n"
     ]
    },
    {
     "name": "stdout",
     "output_type": "stream",
     "text": [
      "1.0\n0.688888888889\n0.888888888889\n0.0006\n1.0\n0.644444444444\n0.807407407407\n0.0007\n"
     ]
    },
    {
     "name": "stdout",
     "output_type": "stream",
     "text": [
      "1.0\n0.659259259259\n0.918518518519\n0.0008\n1.0\n0.637037037037\n0.896296296296\n0.0009\n"
     ]
    },
    {
     "name": "stdout",
     "output_type": "stream",
     "text": [
      "1.0\n0.644444444444\n0.881481481481\n0.0\n1.0\n0.674074074074\n0.859259259259\n0.0001\n"
     ]
    },
    {
     "name": "stdout",
     "output_type": "stream",
     "text": [
      "1.0\n0.644444444444\n0.903703703704\n0.0002\n1.0\n0.688888888889\n0.925925925926\n0.0003\n"
     ]
    },
    {
     "name": "stdout",
     "output_type": "stream",
     "text": [
      "1.0\n0.62962962963\n0.948148148148\n0.0004\n1.0\n0.637037037037\n0.881481481481\n0.0005\n"
     ]
    },
    {
     "name": "stdout",
     "output_type": "stream",
     "text": [
      "1.0\n0.592592592593\n0.896296296296\n0.0006\n1.0\n0.644444444444\n0.851851851852\n0.0007\n"
     ]
    },
    {
     "name": "stdout",
     "output_type": "stream",
     "text": [
      "1.0\n0.681481481481\n0.851851851852\n0.0008\n1.0\n0.62962962963\n0.859259259259\n0.0009\n"
     ]
    },
    {
     "name": "stdout",
     "output_type": "stream",
     "text": [
      "1.0\n0.659259259259\n0.866666666667\n0.0\n1.0\n0.637037037037\n0.918518518519\n0.0001\n"
     ]
    },
    {
     "name": "stdout",
     "output_type": "stream",
     "text": [
      "1.0\n0.644444444444\n0.881481481481\n0.0002\n1.0\n0.607407407407\n0.777777777778\n0.0003\n"
     ]
    },
    {
     "name": "stdout",
     "output_type": "stream",
     "text": [
      "1.0\n0.651851851852\n0.859259259259\n0.0004\n1.0\n0.62962962963\n0.933333333333\n0.0005\n"
     ]
    },
    {
     "name": "stdout",
     "output_type": "stream",
     "text": [
      "1.0\n0.681481481481\n0.948148148148\n0.0006\n1.0\n0.681481481481\n0.844444444444\n0.0007\n"
     ]
    },
    {
     "name": "stdout",
     "output_type": "stream",
     "text": [
      "1.0\n0.681481481481\n0.911111111111\n0.0008\n1.0\n0.651851851852\n0.896296296296\n0.0009\n"
     ]
    },
    {
     "name": "stdout",
     "output_type": "stream",
     "text": [
      "1.0\n0.62962962963\n0.888888888889\n0.0\n1.0\n0.614814814815\n0.888888888889\n0.0001\n"
     ]
    },
    {
     "name": "stdout",
     "output_type": "stream",
     "text": [
      "1.0\n0.666666666667\n0.911111111111\n0.0002\n1.0\n0.62962962963\n0.851851851852\n0.0003\n"
     ]
    },
    {
     "name": "stdout",
     "output_type": "stream",
     "text": [
      "1.0\n0.637037037037\n0.911111111111\n0.0004\n1.0\n0.577777777778\n0.903703703704\n0.0005\n"
     ]
    },
    {
     "name": "stdout",
     "output_type": "stream",
     "text": [
      "1.0\n0.607407407407\n0.859259259259\n0.0006\n1.0\n0.651851851852\n0.822222222222\n0.0007\n"
     ]
    },
    {
     "name": "stdout",
     "output_type": "stream",
     "text": [
      "1.0\n0.637037037037\n0.896296296296\n0.0008\n1.0\n0.659259259259\n0.918518518519\n0.0009\n"
     ]
    },
    {
     "name": "stdout",
     "output_type": "stream",
     "text": [
      "1.0\n0.674074074074\n0.837037037037\n0.0\n1.0\n0.659259259259\n0.888888888889\n0.0001\n"
     ]
    },
    {
     "name": "stdout",
     "output_type": "stream",
     "text": [
      "1.0\n0.725925925926\n0.881481481481\n0.0002\n1.0\n0.681481481481\n0.911111111111\n0.0003\n"
     ]
    },
    {
     "name": "stdout",
     "output_type": "stream",
     "text": [
      "1.0\n0.725925925926\n0.82962962963\n0.0004\n1.0\n0.592592592593\n0.874074074074\n0.0005\n"
     ]
    },
    {
     "name": "stdout",
     "output_type": "stream",
     "text": [
      "1.0\n0.681481481481\n0.844444444444\n0.0006\n1.0\n0.62962962963\n0.814814814815\n0.0007\n"
     ]
    },
    {
     "name": "stdout",
     "output_type": "stream",
     "text": [
      "1.0\n0.57037037037\n0.859259259259\n0.0008\n1.0\n0.659259259259\n0.859259259259\n0.0009\n"
     ]
    },
    {
     "name": "stdout",
     "output_type": "stream",
     "text": [
      "1.0\n0.674074074074\n0.940740740741\n0.0\n1.0\n0.659259259259\n0.755555555556\n0.0001\n"
     ]
    },
    {
     "name": "stdout",
     "output_type": "stream",
     "text": [
      "1.0\n0.674074074074\n0.881481481481\n0.0002\n1.0\n0.659259259259\n0.874074074074\n0.0003\n"
     ]
    },
    {
     "name": "stdout",
     "output_type": "stream",
     "text": [
      "1.0\n0.637037037037\n0.911111111111\n0.0004\n1.0\n0.666666666667\n0.881481481481\n0.0005\n"
     ]
    },
    {
     "name": "stdout",
     "output_type": "stream",
     "text": [
      "1.0\n0.62962962963\n0.903703703704\n0.0006\n1.0\n0.681481481481\n0.859259259259\n0.0007\n"
     ]
    },
    {
     "name": "stdout",
     "output_type": "stream",
     "text": [
      "1.0\n0.62962962963\n0.866666666667\n0.0008\n1.0\n0.666666666667\n0.888888888889\n0.0009\n"
     ]
    },
    {
     "name": "stdout",
     "output_type": "stream",
     "text": [
      "1.0\n0.659259259259\n0.896296296296\n0.0\n1.0\n0.681481481481\n0.925925925926\n0.0001\n"
     ]
    },
    {
     "name": "stdout",
     "output_type": "stream",
     "text": [
      "1.0\n0.651851851852\n0.911111111111\n0.0002\n1.0\n0.555555555556\n0.82962962963\n0.0003\n"
     ]
    },
    {
     "name": "stdout",
     "output_type": "stream",
     "text": [
      "1.0\n0.681481481481\n0.844444444444\n0.0004\n1.0\n0.674074074074\n0.814814814815\n0.0005\n"
     ]
    },
    {
     "name": "stdout",
     "output_type": "stream",
     "text": [
      "1.0\n0.644444444444\n0.896296296296\n0.0006\n1.0\n0.62962962963\n0.903703703704\n0.0007\n"
     ]
    },
    {
     "name": "stdout",
     "output_type": "stream",
     "text": [
      "1.0\n0.651851851852\n0.837037037037\n0.0008\n1.0\n0.651851851852\n0.851851851852\n0.0009\n"
     ]
    },
    {
     "name": "stdout",
     "output_type": "stream",
     "text": [
      "1.0\n0.577777777778\n0.903703703704\n0.0\n1.0\n0.622222222222\n0.918518518519\n0.0001\n"
     ]
    },
    {
     "name": "stdout",
     "output_type": "stream",
     "text": [
      "1.0\n0.637037037037\n0.948148148148\n0.0002\n1.0\n0.674074074074\n0.918518518519\n0.0003\n"
     ]
    },
    {
     "name": "stdout",
     "output_type": "stream",
     "text": [
      "1.0\n0.614814814815\n0.725925925926\n0.0004\n1.0\n0.674074074074\n0.925925925926\n0.0005\n"
     ]
    },
    {
     "name": "stdout",
     "output_type": "stream",
     "text": [
      "1.0\n0.585185185185\n0.874074074074\n0.0006\n1.0\n0.62962962963\n0.881481481481\n0.0007\n"
     ]
    },
    {
     "name": "stdout",
     "output_type": "stream",
     "text": [
      "1.0\n0.651851851852\n0.785185185185\n0.0008\n1.0\n0.674074074074\n0.837037037037\n0.0009\n"
     ]
    },
    {
     "name": "stdout",
     "output_type": "stream",
     "text": [
      "1.0\n0.6\n0.940740740741\n0.0\n1.0\n0.681481481481\n0.814814814815\n0.0001\n"
     ]
    },
    {
     "name": "stdout",
     "output_type": "stream",
     "text": [
      "1.0\n0.666666666667\n0.918518518519\n0.0002\n1.0\n0.651851851852\n0.925925925926\n0.0003\n"
     ]
    },
    {
     "name": "stdout",
     "output_type": "stream",
     "text": [
      "1.0\n0.651851851852\n0.925925925926\n0.0004\n1.0\n0.674074074074\n0.859259259259\n0.0005\n"
     ]
    },
    {
     "name": "stdout",
     "output_type": "stream",
     "text": [
      "1.0\n0.6\n0.888888888889\n0.0006\n1.0\n0.585185185185\n0.948148148148\n0.0007\n"
     ]
    },
    {
     "name": "stdout",
     "output_type": "stream",
     "text": [
      "1.0\n0.644444444444\n0.896296296296\n0.0008\n1.0\n0.688888888889\n0.881481481481\n0.0009\n"
     ]
    },
    {
     "name": "stdout",
     "output_type": "stream",
     "text": [
      "1.0\n0.592592592593\n0.903703703704\n0.0\n1.0\n0.637037037037\n0.896296296296\n0.0001\n"
     ]
    },
    {
     "name": "stdout",
     "output_type": "stream",
     "text": [
      "1.0\n0.666666666667\n0.933333333333\n0.0002\n1.0\n0.62962962963\n0.925925925926\n0.0003\n"
     ]
    },
    {
     "name": "stdout",
     "output_type": "stream",
     "text": [
      "1.0\n0.637037037037\n0.807407407407\n0.0004\n1.0\n0.607407407407\n0.82962962963\n0.0005\n"
     ]
    },
    {
     "name": "stdout",
     "output_type": "stream",
     "text": [
      "1.0\n0.666666666667\n0.911111111111\n0.0006\n1.0\n0.644444444444\n0.785185185185\n0.0007\n"
     ]
    },
    {
     "name": "stdout",
     "output_type": "stream",
     "text": [
      "1.0\n0.674074074074\n0.859259259259\n0.0008\n1.0\n0.62962962963\n0.911111111111\n0.0009\n"
     ]
    },
    {
     "name": "stdout",
     "output_type": "stream",
     "text": [
      "1.0\n0.57037037037\n0.874074074074\n0.0\n1.0\n0.651851851852\n0.933333333333\n0.0001\n"
     ]
    },
    {
     "name": "stdout",
     "output_type": "stream",
     "text": [
      "1.0\n0.577777777778\n0.911111111111\n0.0002\n1.0\n0.674074074074\n0.918518518519\n0.0003\n"
     ]
    },
    {
     "name": "stdout",
     "output_type": "stream",
     "text": [
      "1.0\n0.696296296296\n0.933333333333\n0.0004\n1.0\n0.585185185185\n0.859259259259\n0.0005\n"
     ]
    },
    {
     "name": "stdout",
     "output_type": "stream",
     "text": [
      "1.0\n0.666666666667\n0.896296296296\n0.0006\n1.0\n0.659259259259\n0.940740740741\n0.0007\n"
     ]
    },
    {
     "name": "stdout",
     "output_type": "stream",
     "text": [
      "1.0\n0.614814814815\n0.940740740741\n0.0008\n1.0\n0.688888888889\n0.807407407407\n0.0009\n"
     ]
    },
    {
     "name": "stdout",
     "output_type": "stream",
     "text": [
      "1.0\n0.688888888889\n0.925925925926\n0.0\n1.0\n0.674074074074\n0.792592592593\n0.0001\n"
     ]
    },
    {
     "name": "stdout",
     "output_type": "stream",
     "text": [
      "1.0\n0.62962962963\n0.948148148148\n0.0002\n1.0\n0.651851851852\n0.925925925926\n0.0003\n"
     ]
    },
    {
     "name": "stdout",
     "output_type": "stream",
     "text": [
      "1.0\n0.681481481481\n0.896296296296\n0.0004\n1.0\n0.659259259259\n0.866666666667\n0.0005\n"
     ]
    },
    {
     "name": "stdout",
     "output_type": "stream",
     "text": [
      "1.0\n0.666666666667\n0.785185185185\n0.0006\n1.0\n0.659259259259\n0.940740740741\n0.0007\n"
     ]
    },
    {
     "name": "stdout",
     "output_type": "stream",
     "text": [
      "1.0\n0.62962962963\n0.851851851852\n0.0008\n1.0\n0.644444444444\n0.948148148148\n0.0009\n"
     ]
    },
    {
     "name": "stdout",
     "output_type": "stream",
     "text": [
      "1.0\n0.57037037037\n0.859259259259\n0.0\n1.0\n0.607407407407\n0.888888888889\n0.0001\n"
     ]
    },
    {
     "name": "stdout",
     "output_type": "stream",
     "text": [
      "1.0\n0.6\n0.881481481481\n0.0002\n1.0\n0.681481481481\n0.903703703704\n0.0003\n"
     ]
    },
    {
     "name": "stdout",
     "output_type": "stream",
     "text": [
      "1.0\n0.585185185185\n0.844444444444\n0.0004\n1.0\n0.644444444444\n0.911111111111\n0.0005\n"
     ]
    },
    {
     "name": "stdout",
     "output_type": "stream",
     "text": [
      "1.0\n0.622222222222\n0.866666666667\n0.0006\n1.0\n0.622222222222\n0.925925925926\n0.0007\n"
     ]
    },
    {
     "name": "stdout",
     "output_type": "stream",
     "text": [
      "1.0\n0.62962962963\n0.918518518519\n0.0008\n1.0\n0.637037037037\n0.837037037037\n0.0009\n"
     ]
    },
    {
     "name": "stdout",
     "output_type": "stream",
     "text": [
      "1.0\n0.637037037037\n0.792592592593\n0.0\n1.0\n0.651851851852\n0.866666666667\n0.0001\n"
     ]
    },
    {
     "name": "stdout",
     "output_type": "stream",
     "text": [
      "1.0\n0.674074074074\n0.896296296296\n0.0002\n1.0\n0.644444444444\n0.925925925926\n0.0003\n"
     ]
    },
    {
     "name": "stdout",
     "output_type": "stream",
     "text": [
      "1.0\n0.614814814815\n0.859259259259\n0.0004\n1.0\n0.688888888889\n0.851851851852\n0.0005\n"
     ]
    },
    {
     "name": "stdout",
     "output_type": "stream",
     "text": [
      "1.0\n0.6\n0.859259259259\n0.0006\n1.0\n0.666666666667\n0.874074074074\n0.0007\n"
     ]
    },
    {
     "name": "stdout",
     "output_type": "stream",
     "text": [
      "1.0\n0.644444444444\n0.896296296296\n0.0008\n1.0\n0.637037037037\n0.933333333333\n0.0009\n"
     ]
    },
    {
     "name": "stdout",
     "output_type": "stream",
     "text": [
      "1.0\n0.533333333333\n0.97037037037\n0.0\n1.0\n0.6\n0.888888888889\n0.0001\n"
     ]
    },
    {
     "name": "stdout",
     "output_type": "stream",
     "text": [
      "1.0\n0.651851851852\n0.933333333333\n0.0002\n1.0\n0.622222222222\n0.785185185185\n0.0003\n"
     ]
    },
    {
     "name": "stdout",
     "output_type": "stream",
     "text": [
      "1.0\n0.666666666667\n0.896296296296\n0.0004\n1.0\n0.681481481481\n0.918518518519\n0.0005\n"
     ]
    },
    {
     "name": "stdout",
     "output_type": "stream",
     "text": [
      "1.0\n0.622222222222\n0.888888888889\n0.0006\n1.0\n0.644444444444\n0.874074074074\n0.0007\n"
     ]
    },
    {
     "name": "stdout",
     "output_type": "stream",
     "text": [
      "1.0\n0.674074074074\n0.844444444444\n0.0008\n1.0\n0.644444444444\n0.82962962963\n0.0009\n"
     ]
    },
    {
     "name": "stdout",
     "output_type": "stream",
     "text": [
      "1.0\n0.622222222222\n0.866666666667\n0.0\n1.0\n0.659259259259\n0.807407407407\n0.0001\n"
     ]
    },
    {
     "name": "stdout",
     "output_type": "stream",
     "text": [
      "1.0\n0.659259259259\n0.911111111111\n0.0002\n1.0\n0.644444444444\n0.881481481481\n0.0003\n"
     ]
    },
    {
     "name": "stdout",
     "output_type": "stream",
     "text": [
      "1.0\n0.681481481481\n0.911111111111\n0.0004\n1.0\n0.6\n0.851851851852\n0.0005\n"
     ]
    },
    {
     "name": "stdout",
     "output_type": "stream",
     "text": [
      "1.0\n0.703703703704\n0.866666666667\n0.0006\n1.0\n0.62962962963\n0.925925925926\n0.0007\n"
     ]
    },
    {
     "name": "stdout",
     "output_type": "stream",
     "text": [
      "1.0\n0.644444444444\n0.896296296296\n0.0008\n1.0\n0.681481481481\n0.874074074074\n0.0009\n(250, 0.2320900000000001, 0.00050000000000000001)\n2.64444444444\n"
     ]
    }
   ],
   "source": [
    "# Find solution with stochastic gradient descent\n",
    "best_solution = 0\n",
    "best_params = None\n",
    "# for n_epochs in range(100, 200, 500):\n",
    "for n_epochs in [250]:\n",
    "    for learning_rate in np.arange(0.232, 0.233, 0.00001):\n",
    "        for regularization_rate in np.arange(0.0, 0.001, 0.0001):\n",
    "            class1_accuracy = evaluate_algorithm(coefficients_sgd, training_data, n_epochs, learning_rate, 1,\n",
    "                                                 regularization_rate)\n",
    "            class2_accuracy = evaluate_algorithm(coefficients_sgd, training_data, n_epochs, learning_rate, 2,\n",
    "                                                 regularization_rate)\n",
    "            class3_accuracy = evaluate_algorithm(coefficients_sgd, training_data, n_epochs, learning_rate, 3,\n",
    "                                                 regularization_rate)\n",
    "            print class1_accuracy\n",
    "            print class2_accuracy\n",
    "            print class3_accuracy\n",
    "\n",
    "            if class1_accuracy + class2_accuracy + class3_accuracy > best_solution:\n",
    "                best_solution = class1_accuracy + class2_accuracy + class3_accuracy\n",
    "                best_params = (n_epochs, learning_rate, regularization_rate)\n",
    "            print regularization_rate\n",
    "print best_params\n",
    "print best_solution\n"
   ]
  },
  {
   "cell_type": "markdown",
   "metadata": {},
   "source": [
    ""
   ]
  },
  {
   "cell_type": "markdown",
   "metadata": {},
   "source": [
    "Запускал k-fold с разными значениями параметров для количества итерция, параметра градиентного спуска и параметра регуляризация.\n",
    "Лучшие результаты алгоритма получались при болом значении парметра кол-ва эпох, поэтому проводил далее эксперементы только для большлго значения этого параметра.\n",
    "значение параметра uрадиентного спуска было  лучшим в пределах от 0 до 0.5. Поэтому ,постепенно уменьшая интервал, пришёл к значению это параметра равному 0.232.\n",
    "Регуляризация улучшала решение только при маленьких значениях, поэтому также постпенно уменьшая интревал (в k-fold) выбрал 0.0006 в качестве этого параметра.\n",
    "\n",
    "Но для сторого класса ирисов (Iris-versicolor) алгоритм работает плохо у меня.."
   ]
  },
  {
   "cell_type": "code",
   "execution_count": 61,
   "metadata": {},
   "outputs": [
    {
     "name": "stdout",
     "output_type": "stream",
     "text": [
      "Результат при выбранных параметрах алгоритма на тренировочных данных\n1.0\n0.592592592593\n0.925925925926\nРезультат при выбранных параметрах алгоритма на тестовых данных\n"
     ]
    },
    {
     "name": "stdout",
     "output_type": "stream",
     "text": [
      "1.0\n0.733333333333\n0.933333333333\n"
     ]
    }
   ],
   "source": [
    "class1_accuracy = evaluate_algorithm(coefficients_sgd, training_data, 400, 0.2324, 1, 0.0006)\n",
    "class2_accuracy = evaluate_algorithm(coefficients_sgd, training_data, 400, 0.2324, 2, 0.0006)\n",
    "class3_accuracy = evaluate_algorithm(coefficients_sgd, training_data, 400, 0.2324, 3, 0.0006)\n",
    "        \n",
    "print \"Результат при выбранных параметрах алгоритма на тренировочных данных\"\n",
    "print class1_accuracy\n",
    "print class2_accuracy\n",
    "print class3_accuracy\n",
    "\n",
    "        \n",
    "print \"Результат при выбранных параметрах алгоритма на тестовых данных\"\n",
    "class1_accuracy = evaluate_algorithm(coefficients_sgd, test_data, 400, 0.2324, 1, 0.0006)\n",
    "class2_accuracy = evaluate_algorithm(coefficients_sgd, test_data, 400, 0.2324, 2, 0.0006)\n",
    "class3_accuracy = evaluate_algorithm(coefficients_sgd, test_data, 400, 0.2324, 3, 0.0006)\n",
    "        \n",
    "print class1_accuracy\n",
    "print class2_accuracy\n",
    "print class3_accuracy"
   ]
  },
  {
   "cell_type": "code",
   "execution_count": 70,
   "metadata": {},
   "outputs": [
    {
     "name": "stdout",
     "output_type": "stream",
     "text": [
      "1.0\n0.681481481481\n0.955555555556\n0.0009\n"
     ]
    },
    {
     "name": "stdout",
     "output_type": "stream",
     "text": [
      "1.0\n0.681481481481\n0.955555555556\n0.0009\n"
     ]
    },
    {
     "name": "stdout",
     "output_type": "stream",
     "text": [
      "1.0\n0.681481481481\n0.866666666667\n0.0009\n"
     ]
    },
    {
     "name": "stdout",
     "output_type": "stream",
     "text": [
      "1.0\n0.681481481481\n0.940740740741\n0.0009\n"
     ]
    },
    {
     "name": "stdout",
     "output_type": "stream",
     "text": [
      "1.0\n0.681481481481\n0.940740740741\n0.0009\n"
     ]
    },
    {
     "name": "stdout",
     "output_type": "stream",
     "text": [
      "1.0\n0.681481481481\n0.948148148148\n0.0009\n"
     ]
    },
    {
     "name": "stdout",
     "output_type": "stream",
     "text": [
      "1.0\n0.681481481481\n0.955555555556\n0.0009\n"
     ]
    },
    {
     "name": "stdout",
     "output_type": "stream",
     "text": [
      "1.0\n0.681481481481\n0.918518518519\n0.0009\n"
     ]
    },
    {
     "name": "stdout",
     "output_type": "stream",
     "text": [
      "1.0\n0.681481481481\n0.933333333333\n0.0009\n"
     ]
    },
    {
     "name": "stdout",
     "output_type": "stream",
     "text": [
      "1.0\n0.681481481481\n0.918518518519\n0.0009\n"
     ]
    },
    {
     "name": "stdout",
     "output_type": "stream",
     "text": [
      "1.0\n0.681481481481\n0.933333333333\n0.0009\n(100, 0.22, 0.00090000000000000008)\n2.63703703704\n"
     ]
    }
   ],
   "source": [
    "# Find solution with batch gradient descent\n",
    "best_solution = 0\n",
    "best_params = None\n",
    "# for n_epochs in range(100, 200, 500):\n",
    "for n_epochs in [100]:\n",
    "    for learning_rate in np.arange(0.22, 0.23, 0.001):\n",
    "        for regularization_rate in np.arange(0.0, 0.001, 0.0001):\n",
    "            class1_accuracy = evaluate_algorithm(coefficients_batchgd, training_data, n_epochs, learning_rate, 1,\n",
    "                                                 regularization_rate)\n",
    "            class2_accuracy = evaluate_algorithm(coefficients_batchgd, training_data, n_epochs, learning_rate, 2,\n",
    "                                                 regularization_rate)\n",
    "            class3_accuracy = evaluate_algorithm(coefficients_batchgd, training_data, n_epochs, learning_rate, 3,\n",
    "                                                 regularization_rate)\n",
    "            print class1_accuracy\n",
    "            print class2_accuracy\n",
    "            print class3_accuracy\n",
    "    \n",
    "            if class1_accuracy + class2_accuracy + class3_accuracy > best_solution:\n",
    "                best_solution = class1_accuracy + class2_accuracy + class3_accuracy\n",
    "                best_params = (n_epochs, learning_rate, regularization_rate)\n",
    "            print regularization_rate\n",
    "print best_params\n",
    "print best_solution"
   ]
  },
  {
   "cell_type": "markdown",
   "metadata": {},
   "source": [
    "Выбирал параметры по такому же принципу как и в тохастическом градиентном спуске.\n",
    "Только кол-во эпо брал меньше, так как очевидно, что тут вычислений больше.\n",
    "Кол-во эпох выбрал = 100\n",
    "Параметр градиента 0.22\n",
    "Регуляризация 0.001"
   ]
  },
  {
   "cell_type": "code",
   "execution_count": null,
   "metadata": {},
   "outputs": [
    {
     "name": "stdout",
     "output_type": "stream",
     "text": [
      "Результат при выбранных параметрах алгоритма на тренировочных данных\n1.0\n0.681481481481\n0.925925925926\nРезультат при выбранных параметрах алгоритма на тестовых данных\n"
     ]
    },
    {
     "name": "stdout",
     "output_type": "stream",
     "text": [
      "0.933333333333\n0.4\n0.733333333333\n"
     ]
    }
   ],
   "source": [
    "class1_accuracy = evaluate_algorithm(coefficients_batchgd, training_data, 100, 0.22, 1, 0.0009)\n",
    "class2_accuracy = evaluate_algorithm(coefficients_batchgd, training_data, 100, 0.22, 2, 0.0009)\n",
    "class3_accuracy = evaluate_algorithm(coefficients_batchgd, training_data, 100, 0.22, 3, 0.0009)\n",
    "        \n",
    "print \"Результат при выбранных параметрах алгоритма на тренировочных данных\"\n",
    "print class1_accuracy\n",
    "print class2_accuracy\n",
    "print class3_accuracy\n",
    "\n",
    "        \n",
    "print \"Результат при выбранных параметрах алгоритма на тестовых данных\"\n",
    "class1_accuracy = evaluate_algorithm(coefficients_batchgd, test_data, 100, 0.22, 1, 0.0009)\n",
    "class2_accuracy = evaluate_algorithm(coefficients_batchgd, test_data, 100, 0.22, 2, 0.0009)\n",
    "class3_accuracy = evaluate_algorithm(coefficients_batchgd, test_data, 100, 0.22, 3, 0.0009)\n",
    "        \n",
    "print class1_accuracy\n",
    "print class2_accuracy\n",
    "print class3_accuracy"
   ]
  },
  {
   "cell_type": "markdown",
   "metadata": {},
   "source": [
    "Стохастический алгоритм считает градиент на одном случаном элементе, он работает лучше при малых объёмах выборки, также он работает быстрее\n",
    "\n",
    "Batch gradient descent считает градиент на всех обучающейся выборке, поэтому он как бы движется к оптимальному решению. При больших объёмах выборкипользоваться этималгоримом затруднительно, так как это потребует много времени"
   ]
  },
  {
   "cell_type": "code",
   "execution_count": null,
   "metadata": {},
   "outputs": [],
   "source": []
  }
 ],
 "metadata": {
  "kernelspec": {
   "display_name": "Python 2",
   "language": "python",
   "name": "python2"
  },
  "language_info": {
   "codemirror_mode": {
    "name": "ipython",
    "version": 2
   },
   "file_extension": ".py",
   "mimetype": "text/x-python",
   "name": "python",
   "nbconvert_exporter": "python",
   "pygments_lexer": "ipython2",
   "version": "2.7.6"
  }
 },
 "nbformat": 4,
 "nbformat_minor": 0
}
