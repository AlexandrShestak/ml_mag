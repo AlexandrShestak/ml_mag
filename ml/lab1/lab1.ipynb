{
 "cells": [
  {
   "cell_type": "code",
   "execution_count": 1,
   "metadata": {
    "collapsed": true
   },
   "outputs": [],
   "source": [
    "import random\n",
    "import matplotlib.pyplot as plt\n",
    "import math"
   ]
  },
  {
   "cell_type": "code",
   "execution_count": 6,
   "metadata": {},
   "outputs": [],
   "source": [
    "def calculate_true_risk(m):\n",
    "    # generate training set\n",
    "    training_set = []\n",
    "    for x in xrange(0, m):\n",
    "        training_set.append((random.random(), random.random()))\n",
    "\n",
    "    # calculate true risk\n",
    "    max_x = 0\n",
    "    max_y = 0\n",
    "    min_x = 1\n",
    "    min_y = 1\n",
    "    for elem in training_set:\n",
    "        if elem[0] <= math.sqrt(1.0 / 2):\n",
    "            max_x = max(max_x, elem[0])\n",
    "            min_x = min(min_x, elem[0])\n",
    "        if elem[1] <= math.sqrt(1.0 / 2):\n",
    "            max_y = max(max_y, elem[1])\n",
    "            min_y = min(min_y, elem[1])\n",
    "\n",
    "    return 0.5 - ((max_x - min_x) * (max_y - min_y)) / 1.0"
   ]
  },
  {
   "cell_type": "code",
   "execution_count": 14,
   "metadata": {},
   "outputs": [
    {
     "data": {
      "image/png": "[encoded data removed]",
      "text/plain": [
       "<matplotlib.figure.Figure at 0x7fca01c87290>"
      ]
     },
     "metadata": {},
     "output_type": "display_data"
    }
   ],
   "source": [
    "plt.xlabel('m')\n",
    "plt.ylabel('true risk')\n",
    "for m in xrange(1, 500, 10):\n",
    "    true_risk = calculate_true_risk(m)\n",
    "    plt.plot(m, true_risk, 'ro')\n",
    "plt.show()"
   ]
  },
  {
   "cell_type": "code",
   "execution_count": 8,
   "metadata": {
    "collapsed": false
   },
   "outputs": [
    {
     "name": "stdout",
     "output_type": "stream",
     "text": [
      "Средний размер выборки, чтобо true risk был 10%: 13\nСредний размер выборки, чтобо true risk был 1%: 76\nСредний размер выборки, чтобо true risk был 0.1%: 461\n"
     ]
    }
   ],
   "source": [
    "# coding=utf-8\n",
    "# calculate average m for true risk\n",
    "attempts_count = 1000\n",
    "attempts_map = {0.1: [], 0.01: [], 0.001: []}\n",
    "for i in xrange(0, attempts_count):\n",
    "    true_risk = 1.0\n",
    "    m = 1\n",
    "    first_experiment_calculated = False\n",
    "    second_experiment_calculated = False\n",
    "    while true_risk > 0.001:\n",
    "        true_risk = calculate_true_risk(m)\n",
    "        if true_risk < 0.1 and not first_experiment_calculated:\n",
    "            first_experiment_calculated = True\n",
    "            attempts_map[0.1].append(m)\n",
    "        if true_risk < 0.01 and not second_experiment_calculated:\n",
    "            second_experiment_calculated = True\n",
    "            attempts_map[0.01].append(m)\n",
    "        if true_risk < 0.001:\n",
    "            attempts_map[0.001].append(m)\n",
    "            break\n",
    "        m += 1\n",
    "\n",
    "\n",
    "print 'Средний размер выборки, чтобо true risk был 10%: ' + str(sum(attempts_map[0.1]) / len(attempts_map[0.1]))\n",
    "print 'Средний размер выборки, чтобо true risk был 1%: ' + str(sum(attempts_map[0.01]) / len(attempts_map[0.01]))\n",
    "print 'Средний размер выборки, чтобо true risk был 0.1%: ' + str(sum(attempts_map[0.001]) / len(attempts_map[0.001]))"
   ]
  },
  {
   "cell_type": "code",
   "execution_count": 15,
   "metadata": {},
   "outputs": [],
   "source": [
    ""
   ]
  },
  {
   "cell_type": "code",
   "execution_count": 8,
   "metadata": {},
   "outputs": [],
   "source": [
    ""
   ]
  },
  {
   "cell_type": "code",
   "execution_count": 8,
   "metadata": {},
   "outputs": [],
   "source": [
    ""
   ]
  },
  {
   "cell_type": "code",
   "execution_count": null,
   "metadata": {},
   "outputs": [],
   "source": [
    ""
   ]
  }
 ],
 "metadata": {
  "kernelspec": {
   "display_name": "Python 2",
   "language": "python",
   "name": "python2"
  },
  "language_info": {
   "codemirror_mode": {
    "name": "ipython",
    "version": 2.0
   },
   "file_extension": ".py",
   "mimetype": "text/x-python",
   "name": "python",
   "nbconvert_exporter": "python",
   "pygments_lexer": "ipython2",
   "version": "2.7.6"
  }
 },
 "nbformat": 4,
 "nbformat_minor": 0
}